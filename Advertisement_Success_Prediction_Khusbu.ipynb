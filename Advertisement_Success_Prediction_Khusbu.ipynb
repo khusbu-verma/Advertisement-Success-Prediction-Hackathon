{
  "nbformat": 4,
  "nbformat_minor": 0,
  "metadata": {
    "colab": {
      "name": "Advertisement Success Prediction Hackathon.ipynb",
      "provenance": [],
      "collapsed_sections": [
        "kbXueei9xOll",
        "zUs0RxVHmUeD",
        "XL8sY_s8u2vQ",
        "IuGkYUfowuuU",
        "guo6NzmtzhOk",
        "RHj61j0iCTV_",
        "Zf3j8xLPAx3_",
        "uQ-MfxQwDQBR"
      ]
    },
    "kernelspec": {
      "name": "python3",
      "display_name": "Python 3"
    }
  },
  "cells": [
    {
      "cell_type": "markdown",
      "metadata": {
        "id": "kbXueei9xOll"
      },
      "source": [
        "##Importing Libraries and Dataset\n"
      ]
    },
    {
      "cell_type": "code",
      "metadata": {
        "id": "e60MzQNOvod7"
      },
      "source": [
        "import seaborn as sns\n",
        "import numpy as np \n",
        "import pandas as pd\n",
        "import matplotlib.pyplot as plt\n",
        "from sklearn.metrics import make_scorer, accuracy_score,auc\n",
        "from sklearn.model_selection import train_test_split\n",
        "from sklearn.ensemble import RandomForestClassifier\n",
        "from sklearn.ensemble import RandomForestRegressor\n",
        "from sklearn.tree import DecisionTreeRegressor\n",
        "from sklearn.tree import DecisionTreeClassifier\n",
        "from sklearn.tree import ExtraTreeClassifier\n",
        "from sklearn.ensemble import AdaBoostClassifier\n",
        "from sklearn.ensemble import BaggingClassifier\n",
        "from sklearn.ensemble import ExtraTreesClassifier\n",
        "from sklearn.neural_network import MLPClassifier\n",
        "from sklearn.linear_model import LogisticRegression\n",
        "from sklearn.linear_model import LinearRegression\n",
        "from sklearn.metrics import classification_report\n",
        "from sklearn.model_selection import GridSearchCV\n",
        "from sklearn.metrics import confusion_matrix\n",
        "from sklearn.metrics import accuracy_score\n",
        "from pandas import get_dummies\n",
        "import matplotlib as mpl\n",
        "from scipy import stats\n",
        "import xgboost as xgb\n",
        "import seaborn as sns\n",
        "import pandas as pd\n",
        "import numpy as np\n",
        "import matplotlib\n",
        "import warnings\n",
        "import sklearn"
      ],
      "execution_count": 774,
      "outputs": []
    },
    {
      "cell_type": "code",
      "metadata": {
        "id": "CT1x9A0QHyy-"
      },
      "source": [
        "import warnings\n",
        "warnings.filterwarnings('ignore')\n",
        "%matplotlib inline"
      ],
      "execution_count": 775,
      "outputs": []
    },
    {
      "cell_type": "code",
      "metadata": {
        "id": "u1i6Ev3hvsmU"
      },
      "source": [
        "#Loading train file into df\n",
        "df_train = pd.read_csv('train.csv')\n"
      ],
      "execution_count": 776,
      "outputs": []
    },
    {
      "cell_type": "code",
      "metadata": {
        "id": "Rm6DgffEvuAR"
      },
      "source": [
        "#Loading train file into df\n",
        "df_test = pd.read_csv('test.csv')"
      ],
      "execution_count": 777,
      "outputs": []
    },
    {
      "cell_type": "code",
      "metadata": {
        "colab": {
          "base_uri": "https://localhost:8080/"
        },
        "id": "gwupymyMDIhO",
        "outputId": "d0a95a3b-d82e-4df7-dfd5-497c617ae719"
      },
      "source": [
        "df_test.columns"
      ],
      "execution_count": 778,
      "outputs": [
        {
          "output_type": "execute_result",
          "data": {
            "text/plain": [
              "Index(['UserID', 'realtionship_status', 'industry', 'genre', 'targeted_sex',\n",
              "       'average_runtime(minutes_per_week)', 'airtime', 'airlocation',\n",
              "       'ratings', 'expensive', 'money_back_guarantee'],\n",
              "      dtype='object')"
            ]
          },
          "metadata": {
            "tags": []
          },
          "execution_count": 778
        }
      ]
    },
    {
      "cell_type": "code",
      "metadata": {
        "colab": {
          "base_uri": "https://localhost:8080/"
        },
        "id": "ByCFGxJ3DJqX",
        "outputId": "c2325718-cb4a-4f9b-ac8c-f853625f35cc"
      },
      "source": [
        "df_train.columns"
      ],
      "execution_count": 779,
      "outputs": [
        {
          "output_type": "execute_result",
          "data": {
            "text/plain": [
              "Index(['UserID', 'realtionship_status', 'industry', 'genre', 'targeted_sex',\n",
              "       'average_runtime(minutes_per_week)', 'airtime', 'airlocation',\n",
              "       'ratings', 'expensive', 'money_back_guarantee', 'netgain'],\n",
              "      dtype='object')"
            ]
          },
          "metadata": {
            "tags": []
          },
          "execution_count": 779
        }
      ]
    },
    {
      "cell_type": "code",
      "metadata": {
        "id": "cr2XiO2-Jwsp"
      },
      "source": [
        "df_train.rename(columns = {'realtionship_status':'relationship_status'}, inplace = True)"
      ],
      "execution_count": 780,
      "outputs": []
    },
    {
      "cell_type": "code",
      "metadata": {
        "id": "hhj8kfDdJ9p9"
      },
      "source": [
        "df_test.rename(columns = {'realtionship_status':'relationship_status'}, inplace = True)"
      ],
      "execution_count": 781,
      "outputs": []
    },
    {
      "cell_type": "code",
      "metadata": {
        "id": "WJoeSGYpIKA_"
      },
      "source": [
        "#df_train['relationship_status']=df_train['realtionship_status']"
      ],
      "execution_count": 782,
      "outputs": []
    },
    {
      "cell_type": "code",
      "metadata": {
        "id": "oeHIIIgYIZzM"
      },
      "source": [
        "#df_train=df_train.drop(['realtionship_status'], axis=1)\n"
      ],
      "execution_count": 783,
      "outputs": []
    },
    {
      "cell_type": "code",
      "metadata": {
        "colab": {
          "base_uri": "https://localhost:8080/"
        },
        "id": "alfILiGHIuID",
        "outputId": "5b13a881-8e6b-4fc4-9251-0a22de13302a"
      },
      "source": [
        "df_train.columns"
      ],
      "execution_count": 784,
      "outputs": [
        {
          "output_type": "execute_result",
          "data": {
            "text/plain": [
              "Index(['UserID', 'relationship_status', 'industry', 'genre', 'targeted_sex',\n",
              "       'average_runtime(minutes_per_week)', 'airtime', 'airlocation',\n",
              "       'ratings', 'expensive', 'money_back_guarantee', 'netgain'],\n",
              "      dtype='object')"
            ]
          },
          "metadata": {
            "tags": []
          },
          "execution_count": 784
        }
      ]
    },
    {
      "cell_type": "code",
      "metadata": {
        "id": "xLNePU_Fodoz"
      },
      "source": [
        ""
      ],
      "execution_count": 784,
      "outputs": []
    },
    {
      "cell_type": "markdown",
      "metadata": {
        "id": "CR7yNm7cxZHX"
      },
      "source": [
        "##Gaining basic Insights from the data and Data Cleansing"
      ]
    },
    {
      "cell_type": "code",
      "metadata": {
        "id": "K9Ndodxzx8pl",
        "colab": {
          "base_uri": "https://localhost:8080/",
          "height": 222
        },
        "outputId": "9f53dc58-0545-4dcb-f087-38a17e61d344"
      },
      "source": [
        "#Reading the top 5 rows of the dataset\n",
        "df_train.head(5)"
      ],
      "execution_count": 785,
      "outputs": [
        {
          "output_type": "execute_result",
          "data": {
            "text/html": [
              "<div>\n",
              "<style scoped>\n",
              "    .dataframe tbody tr th:only-of-type {\n",
              "        vertical-align: middle;\n",
              "    }\n",
              "\n",
              "    .dataframe tbody tr th {\n",
              "        vertical-align: top;\n",
              "    }\n",
              "\n",
              "    .dataframe thead th {\n",
              "        text-align: right;\n",
              "    }\n",
              "</style>\n",
              "<table border=\"1\" class=\"dataframe\">\n",
              "  <thead>\n",
              "    <tr style=\"text-align: right;\">\n",
              "      <th></th>\n",
              "      <th>UserID</th>\n",
              "      <th>relationship_status</th>\n",
              "      <th>industry</th>\n",
              "      <th>genre</th>\n",
              "      <th>targeted_sex</th>\n",
              "      <th>average_runtime(minutes_per_week)</th>\n",
              "      <th>airtime</th>\n",
              "      <th>airlocation</th>\n",
              "      <th>ratings</th>\n",
              "      <th>expensive</th>\n",
              "      <th>money_back_guarantee</th>\n",
              "      <th>netgain</th>\n",
              "    </tr>\n",
              "  </thead>\n",
              "  <tbody>\n",
              "    <tr>\n",
              "      <th>0</th>\n",
              "      <td>UI_9185</td>\n",
              "      <td>Married-civ-spouse</td>\n",
              "      <td>Pharma</td>\n",
              "      <td>Comedy</td>\n",
              "      <td>Male</td>\n",
              "      <td>40</td>\n",
              "      <td>Daytime</td>\n",
              "      <td>United-States</td>\n",
              "      <td>0.027465</td>\n",
              "      <td>Medium</td>\n",
              "      <td>No</td>\n",
              "      <td>0</td>\n",
              "    </tr>\n",
              "    <tr>\n",
              "      <th>1</th>\n",
              "      <td>UI_449</td>\n",
              "      <td>Never-married</td>\n",
              "      <td>Political</td>\n",
              "      <td>Comedy</td>\n",
              "      <td>Male</td>\n",
              "      <td>35</td>\n",
              "      <td>Morning</td>\n",
              "      <td>International</td>\n",
              "      <td>0.027465</td>\n",
              "      <td>Low</td>\n",
              "      <td>No</td>\n",
              "      <td>0</td>\n",
              "    </tr>\n",
              "    <tr>\n",
              "      <th>2</th>\n",
              "      <td>UI_9014</td>\n",
              "      <td>Never-married</td>\n",
              "      <td>Auto</td>\n",
              "      <td>Comedy</td>\n",
              "      <td>Male</td>\n",
              "      <td>40</td>\n",
              "      <td>Morning</td>\n",
              "      <td>United-States</td>\n",
              "      <td>0.027465</td>\n",
              "      <td>Low</td>\n",
              "      <td>No</td>\n",
              "      <td>0</td>\n",
              "    </tr>\n",
              "    <tr>\n",
              "      <th>3</th>\n",
              "      <td>UI_14987</td>\n",
              "      <td>Married-civ-spouse</td>\n",
              "      <td>Pharma</td>\n",
              "      <td>Infomercial</td>\n",
              "      <td>Male</td>\n",
              "      <td>40</td>\n",
              "      <td>Primetime</td>\n",
              "      <td>United-States</td>\n",
              "      <td>0.027465</td>\n",
              "      <td>Low</td>\n",
              "      <td>Yes</td>\n",
              "      <td>0</td>\n",
              "    </tr>\n",
              "    <tr>\n",
              "      <th>4</th>\n",
              "      <td>UI_25532</td>\n",
              "      <td>Married-civ-spouse</td>\n",
              "      <td>Other</td>\n",
              "      <td>Comedy</td>\n",
              "      <td>Female</td>\n",
              "      <td>50</td>\n",
              "      <td>Primetime</td>\n",
              "      <td>United-States</td>\n",
              "      <td>0.027465</td>\n",
              "      <td>Low</td>\n",
              "      <td>Yes</td>\n",
              "      <td>1</td>\n",
              "    </tr>\n",
              "  </tbody>\n",
              "</table>\n",
              "</div>"
            ],
            "text/plain": [
              "     UserID relationship_status  ... money_back_guarantee netgain\n",
              "0   UI_9185  Married-civ-spouse  ...                   No       0\n",
              "1    UI_449       Never-married  ...                   No       0\n",
              "2   UI_9014       Never-married  ...                   No       0\n",
              "3  UI_14987  Married-civ-spouse  ...                  Yes       0\n",
              "4  UI_25532  Married-civ-spouse  ...                  Yes       1\n",
              "\n",
              "[5 rows x 12 columns]"
            ]
          },
          "metadata": {
            "tags": []
          },
          "execution_count": 785
        }
      ]
    },
    {
      "cell_type": "code",
      "metadata": {
        "id": "atKcG5B503kV",
        "colab": {
          "base_uri": "https://localhost:8080/",
          "height": 222
        },
        "outputId": "67542840-c63c-4c0c-f5c1-747d0efa3966"
      },
      "source": [
        "#Reading bottom 5 rows of the dataset\n",
        "df_train.tail()"
      ],
      "execution_count": 786,
      "outputs": [
        {
          "output_type": "execute_result",
          "data": {
            "text/html": [
              "<div>\n",
              "<style scoped>\n",
              "    .dataframe tbody tr th:only-of-type {\n",
              "        vertical-align: middle;\n",
              "    }\n",
              "\n",
              "    .dataframe tbody tr th {\n",
              "        vertical-align: top;\n",
              "    }\n",
              "\n",
              "    .dataframe thead th {\n",
              "        text-align: right;\n",
              "    }\n",
              "</style>\n",
              "<table border=\"1\" class=\"dataframe\">\n",
              "  <thead>\n",
              "    <tr style=\"text-align: right;\">\n",
              "      <th></th>\n",
              "      <th>UserID</th>\n",
              "      <th>relationship_status</th>\n",
              "      <th>industry</th>\n",
              "      <th>genre</th>\n",
              "      <th>targeted_sex</th>\n",
              "      <th>average_runtime(minutes_per_week)</th>\n",
              "      <th>airtime</th>\n",
              "      <th>airlocation</th>\n",
              "      <th>ratings</th>\n",
              "      <th>expensive</th>\n",
              "      <th>money_back_guarantee</th>\n",
              "      <th>netgain</th>\n",
              "    </tr>\n",
              "  </thead>\n",
              "  <tbody>\n",
              "    <tr>\n",
              "      <th>19531</th>\n",
              "      <td>UI_13124</td>\n",
              "      <td>Never-married</td>\n",
              "      <td>Auto</td>\n",
              "      <td>Infomercial</td>\n",
              "      <td>Male</td>\n",
              "      <td>40</td>\n",
              "      <td>Primetime</td>\n",
              "      <td>United-States</td>\n",
              "      <td>0.027465</td>\n",
              "      <td>High</td>\n",
              "      <td>Yes</td>\n",
              "      <td>0</td>\n",
              "    </tr>\n",
              "    <tr>\n",
              "      <th>19532</th>\n",
              "      <td>UI_19649</td>\n",
              "      <td>Never-married</td>\n",
              "      <td>Political</td>\n",
              "      <td>Drama</td>\n",
              "      <td>Female</td>\n",
              "      <td>15</td>\n",
              "      <td>Morning</td>\n",
              "      <td>United-States</td>\n",
              "      <td>0.027465</td>\n",
              "      <td>High</td>\n",
              "      <td>Yes</td>\n",
              "      <td>1</td>\n",
              "    </tr>\n",
              "    <tr>\n",
              "      <th>19533</th>\n",
              "      <td>UI_9846</td>\n",
              "      <td>Married-civ-spouse</td>\n",
              "      <td>Other</td>\n",
              "      <td>Comedy</td>\n",
              "      <td>Female</td>\n",
              "      <td>55</td>\n",
              "      <td>Primetime</td>\n",
              "      <td>United-States</td>\n",
              "      <td>0.027465</td>\n",
              "      <td>Low</td>\n",
              "      <td>Yes</td>\n",
              "      <td>0</td>\n",
              "    </tr>\n",
              "    <tr>\n",
              "      <th>19534</th>\n",
              "      <td>UI_10800</td>\n",
              "      <td>Never-married</td>\n",
              "      <td>Political</td>\n",
              "      <td>Comedy</td>\n",
              "      <td>Male</td>\n",
              "      <td>38</td>\n",
              "      <td>Primetime</td>\n",
              "      <td>United-States</td>\n",
              "      <td>0.027465</td>\n",
              "      <td>High</td>\n",
              "      <td>Yes</td>\n",
              "      <td>0</td>\n",
              "    </tr>\n",
              "    <tr>\n",
              "      <th>19535</th>\n",
              "      <td>UI_2733</td>\n",
              "      <td>Never-married</td>\n",
              "      <td>Political</td>\n",
              "      <td>Infomercial</td>\n",
              "      <td>Male</td>\n",
              "      <td>40</td>\n",
              "      <td>Morning</td>\n",
              "      <td>United-States</td>\n",
              "      <td>0.027465</td>\n",
              "      <td>High</td>\n",
              "      <td>Yes</td>\n",
              "      <td>0</td>\n",
              "    </tr>\n",
              "  </tbody>\n",
              "</table>\n",
              "</div>"
            ],
            "text/plain": [
              "         UserID relationship_status  ... money_back_guarantee netgain\n",
              "19531  UI_13124       Never-married  ...                  Yes       0\n",
              "19532  UI_19649       Never-married  ...                  Yes       1\n",
              "19533   UI_9846  Married-civ-spouse  ...                  Yes       0\n",
              "19534  UI_10800       Never-married  ...                  Yes       0\n",
              "19535   UI_2733       Never-married  ...                  Yes       0\n",
              "\n",
              "[5 rows x 12 columns]"
            ]
          },
          "metadata": {
            "tags": []
          },
          "execution_count": 786
        }
      ]
    },
    {
      "cell_type": "code",
      "metadata": {
        "colab": {
          "base_uri": "https://localhost:8080/"
        },
        "id": "PbQk4yJqxozd",
        "outputId": "31f3702c-e4fc-45b0-b2e1-257879396446"
      },
      "source": [
        "#Checking the dimensions of the dataset\n",
        "df_train.shape"
      ],
      "execution_count": 787,
      "outputs": [
        {
          "output_type": "execute_result",
          "data": {
            "text/plain": [
              "(19536, 12)"
            ]
          },
          "metadata": {
            "tags": []
          },
          "execution_count": 787
        }
      ]
    },
    {
      "cell_type": "code",
      "metadata": {
        "id": "nXcgN8HE13oR",
        "colab": {
          "base_uri": "https://localhost:8080/"
        },
        "outputId": "3c1e75ba-118c-410c-b628-b9836ee2a8b7"
      },
      "source": [
        "#Checking the dimensions of the test dataset\n",
        "df_test.shape"
      ],
      "execution_count": 788,
      "outputs": [
        {
          "output_type": "execute_result",
          "data": {
            "text/plain": [
              "(6512, 11)"
            ]
          },
          "metadata": {
            "tags": []
          },
          "execution_count": 788
        }
      ]
    },
    {
      "cell_type": "code",
      "metadata": {
        "colab": {
          "base_uri": "https://localhost:8080/"
        },
        "id": "95likDKqxxw8",
        "outputId": "d53d98b7-a964-454a-d9b5-e347ea1617c6"
      },
      "source": [
        "#Checking datatypes\n",
        "df_train.dtypes"
      ],
      "execution_count": 789,
      "outputs": [
        {
          "output_type": "execute_result",
          "data": {
            "text/plain": [
              "UserID                                object\n",
              "relationship_status                   object\n",
              "industry                              object\n",
              "genre                                 object\n",
              "targeted_sex                          object\n",
              "average_runtime(minutes_per_week)      int64\n",
              "airtime                               object\n",
              "airlocation                           object\n",
              "ratings                              float64\n",
              "expensive                             object\n",
              "money_back_guarantee                  object\n",
              "netgain                                int64\n",
              "dtype: object"
            ]
          },
          "metadata": {
            "tags": []
          },
          "execution_count": 789
        }
      ]
    },
    {
      "cell_type": "markdown",
      "metadata": {
        "id": "rqhT80Eex6QA"
      },
      "source": [
        "3 Numerical and 9 String "
      ]
    },
    {
      "cell_type": "code",
      "metadata": {
        "colab": {
          "base_uri": "https://localhost:8080/"
        },
        "id": "VJAWvJbqx1ce",
        "outputId": "d5b07a77-6639-430d-80cf-39b59569f5ab"
      },
      "source": [
        "df_test.dtypes"
      ],
      "execution_count": 790,
      "outputs": [
        {
          "output_type": "execute_result",
          "data": {
            "text/plain": [
              "UserID                                object\n",
              "relationship_status                   object\n",
              "industry                              object\n",
              "genre                                 object\n",
              "targeted_sex                          object\n",
              "average_runtime(minutes_per_week)      int64\n",
              "airtime                               object\n",
              "airlocation                           object\n",
              "ratings                              float64\n",
              "expensive                             object\n",
              "money_back_guarantee                  object\n",
              "dtype: object"
            ]
          },
          "metadata": {
            "tags": []
          },
          "execution_count": 790
        }
      ]
    },
    {
      "cell_type": "markdown",
      "metadata": {
        "id": "Eh_KjP7ryQhy"
      },
      "source": [
        "2 Numerical and 9 String\n"
      ]
    },
    {
      "cell_type": "code",
      "metadata": {
        "colab": {
          "base_uri": "https://localhost:8080/"
        },
        "id": "uetlxoI6yV7e",
        "outputId": "58d0b149-3260-4af3-d540-1e3759abe21d"
      },
      "source": [
        "#checking the Info\n",
        "df_train.info()"
      ],
      "execution_count": 791,
      "outputs": [
        {
          "output_type": "stream",
          "text": [
            "<class 'pandas.core.frame.DataFrame'>\n",
            "RangeIndex: 19536 entries, 0 to 19535\n",
            "Data columns (total 12 columns):\n",
            " #   Column                             Non-Null Count  Dtype  \n",
            "---  ------                             --------------  -----  \n",
            " 0   UserID                             19536 non-null  object \n",
            " 1   relationship_status                19536 non-null  object \n",
            " 2   industry                           19536 non-null  object \n",
            " 3   genre                              19536 non-null  object \n",
            " 4   targeted_sex                       19536 non-null  object \n",
            " 5   average_runtime(minutes_per_week)  19536 non-null  int64  \n",
            " 6   airtime                            19536 non-null  object \n",
            " 7   airlocation                        19536 non-null  object \n",
            " 8   ratings                            19536 non-null  float64\n",
            " 9   expensive                          19536 non-null  object \n",
            " 10  money_back_guarantee               19536 non-null  object \n",
            " 11  netgain                            19536 non-null  int64  \n",
            "dtypes: float64(1), int64(2), object(9)\n",
            "memory usage: 1.8+ MB\n"
          ],
          "name": "stdout"
        }
      ]
    },
    {
      "cell_type": "code",
      "metadata": {
        "colab": {
          "base_uri": "https://localhost:8080/"
        },
        "id": "Rrmi7I11Z1il",
        "outputId": "a2ca69b0-219d-44d5-958e-f2ffa249d32b"
      },
      "source": [
        "df_test.info()"
      ],
      "execution_count": 792,
      "outputs": [
        {
          "output_type": "stream",
          "text": [
            "<class 'pandas.core.frame.DataFrame'>\n",
            "RangeIndex: 6512 entries, 0 to 6511\n",
            "Data columns (total 11 columns):\n",
            " #   Column                             Non-Null Count  Dtype  \n",
            "---  ------                             --------------  -----  \n",
            " 0   UserID                             6512 non-null   object \n",
            " 1   relationship_status                6512 non-null   object \n",
            " 2   industry                           6512 non-null   object \n",
            " 3   genre                              6512 non-null   object \n",
            " 4   targeted_sex                       6512 non-null   object \n",
            " 5   average_runtime(minutes_per_week)  6512 non-null   int64  \n",
            " 6   airtime                            6512 non-null   object \n",
            " 7   airlocation                        6512 non-null   object \n",
            " 8   ratings                            6512 non-null   float64\n",
            " 9   expensive                          6512 non-null   object \n",
            " 10  money_back_guarantee               6512 non-null   object \n",
            "dtypes: float64(1), int64(1), object(9)\n",
            "memory usage: 559.8+ KB\n"
          ],
          "name": "stdout"
        }
      ]
    },
    {
      "cell_type": "code",
      "metadata": {
        "colab": {
          "base_uri": "https://localhost:8080/"
        },
        "id": "JneQyUYKybtq",
        "outputId": "a4906446-a5c1-460d-bfa9-9ae5d707b44e"
      },
      "source": [
        "#checking for null values\n",
        "print(df_train.isnull().sum())"
      ],
      "execution_count": 793,
      "outputs": [
        {
          "output_type": "stream",
          "text": [
            "UserID                               0\n",
            "relationship_status                  0\n",
            "industry                             0\n",
            "genre                                0\n",
            "targeted_sex                         0\n",
            "average_runtime(minutes_per_week)    0\n",
            "airtime                              0\n",
            "airlocation                          0\n",
            "ratings                              0\n",
            "expensive                            0\n",
            "money_back_guarantee                 0\n",
            "netgain                              0\n",
            "dtype: int64\n"
          ],
          "name": "stdout"
        }
      ]
    },
    {
      "cell_type": "markdown",
      "metadata": {
        "id": "tPdD2VjhyjD2"
      },
      "source": [
        "No Null Values present in the Dataset\n",
        "--df.dropna(inplace=True)\n",
        "\n",
        "\n",
        "\n"
      ]
    },
    {
      "cell_type": "code",
      "metadata": {
        "colab": {
          "base_uri": "https://localhost:8080/"
        },
        "id": "oKIcKSUqycCA",
        "outputId": "fc94acf3-bda0-4844-8c88-a20437e4a1ad"
      },
      "source": [
        "#checking for null values\n",
        "print(df_test.isnull().sum())"
      ],
      "execution_count": 794,
      "outputs": [
        {
          "output_type": "stream",
          "text": [
            "UserID                               0\n",
            "relationship_status                  0\n",
            "industry                             0\n",
            "genre                                0\n",
            "targeted_sex                         0\n",
            "average_runtime(minutes_per_week)    0\n",
            "airtime                              0\n",
            "airlocation                          0\n",
            "ratings                              0\n",
            "expensive                            0\n",
            "money_back_guarantee                 0\n",
            "dtype: int64\n"
          ],
          "name": "stdout"
        }
      ]
    },
    {
      "cell_type": "code",
      "metadata": {
        "colab": {
          "base_uri": "https://localhost:8080/",
          "height": 294
        },
        "id": "Gg0N_oZSygYS",
        "outputId": "54f7e3c5-5bfb-4036-bc43-1a624910b133"
      },
      "source": [
        "#Ananlysing basic statistical details\n",
        "df_train.describe()\n"
      ],
      "execution_count": 795,
      "outputs": [
        {
          "output_type": "execute_result",
          "data": {
            "text/html": [
              "<div>\n",
              "<style scoped>\n",
              "    .dataframe tbody tr th:only-of-type {\n",
              "        vertical-align: middle;\n",
              "    }\n",
              "\n",
              "    .dataframe tbody tr th {\n",
              "        vertical-align: top;\n",
              "    }\n",
              "\n",
              "    .dataframe thead th {\n",
              "        text-align: right;\n",
              "    }\n",
              "</style>\n",
              "<table border=\"1\" class=\"dataframe\">\n",
              "  <thead>\n",
              "    <tr style=\"text-align: right;\">\n",
              "      <th></th>\n",
              "      <th>average_runtime(minutes_per_week)</th>\n",
              "      <th>ratings</th>\n",
              "      <th>netgain</th>\n",
              "    </tr>\n",
              "  </thead>\n",
              "  <tbody>\n",
              "    <tr>\n",
              "      <th>count</th>\n",
              "      <td>19536.000000</td>\n",
              "      <td>19536.000000</td>\n",
              "      <td>19536.000000</td>\n",
              "    </tr>\n",
              "    <tr>\n",
              "      <th>mean</th>\n",
              "      <td>40.375665</td>\n",
              "      <td>0.038826</td>\n",
              "      <td>0.238022</td>\n",
              "    </tr>\n",
              "    <tr>\n",
              "      <th>std</th>\n",
              "      <td>12.483166</td>\n",
              "      <td>0.075971</td>\n",
              "      <td>0.425884</td>\n",
              "    </tr>\n",
              "    <tr>\n",
              "      <th>min</th>\n",
              "      <td>1.000000</td>\n",
              "      <td>0.000000</td>\n",
              "      <td>0.000000</td>\n",
              "    </tr>\n",
              "    <tr>\n",
              "      <th>25%</th>\n",
              "      <td>40.000000</td>\n",
              "      <td>0.027465</td>\n",
              "      <td>0.000000</td>\n",
              "    </tr>\n",
              "    <tr>\n",
              "      <th>50%</th>\n",
              "      <td>40.000000</td>\n",
              "      <td>0.027465</td>\n",
              "      <td>0.000000</td>\n",
              "    </tr>\n",
              "    <tr>\n",
              "      <th>75%</th>\n",
              "      <td>45.000000</td>\n",
              "      <td>0.027465</td>\n",
              "      <td>0.000000</td>\n",
              "    </tr>\n",
              "    <tr>\n",
              "      <th>max</th>\n",
              "      <td>99.000000</td>\n",
              "      <td>1.000000</td>\n",
              "      <td>1.000000</td>\n",
              "    </tr>\n",
              "  </tbody>\n",
              "</table>\n",
              "</div>"
            ],
            "text/plain": [
              "       average_runtime(minutes_per_week)       ratings       netgain\n",
              "count                       19536.000000  19536.000000  19536.000000\n",
              "mean                           40.375665      0.038826      0.238022\n",
              "std                            12.483166      0.075971      0.425884\n",
              "min                             1.000000      0.000000      0.000000\n",
              "25%                            40.000000      0.027465      0.000000\n",
              "50%                            40.000000      0.027465      0.000000\n",
              "75%                            45.000000      0.027465      0.000000\n",
              "max                            99.000000      1.000000      1.000000"
            ]
          },
          "metadata": {
            "tags": []
          },
          "execution_count": 795
        }
      ]
    },
    {
      "cell_type": "code",
      "metadata": {
        "colab": {
          "base_uri": "https://localhost:8080/",
          "height": 141
        },
        "id": "lLsUPpP1z32o",
        "outputId": "c69c229c-3eb3-4a9f-d2b9-71cdc6812598"
      },
      "source": [
        "df_train.describe().T"
      ],
      "execution_count": 796,
      "outputs": [
        {
          "output_type": "execute_result",
          "data": {
            "text/html": [
              "<div>\n",
              "<style scoped>\n",
              "    .dataframe tbody tr th:only-of-type {\n",
              "        vertical-align: middle;\n",
              "    }\n",
              "\n",
              "    .dataframe tbody tr th {\n",
              "        vertical-align: top;\n",
              "    }\n",
              "\n",
              "    .dataframe thead th {\n",
              "        text-align: right;\n",
              "    }\n",
              "</style>\n",
              "<table border=\"1\" class=\"dataframe\">\n",
              "  <thead>\n",
              "    <tr style=\"text-align: right;\">\n",
              "      <th></th>\n",
              "      <th>count</th>\n",
              "      <th>mean</th>\n",
              "      <th>std</th>\n",
              "      <th>min</th>\n",
              "      <th>25%</th>\n",
              "      <th>50%</th>\n",
              "      <th>75%</th>\n",
              "      <th>max</th>\n",
              "    </tr>\n",
              "  </thead>\n",
              "  <tbody>\n",
              "    <tr>\n",
              "      <th>average_runtime(minutes_per_week)</th>\n",
              "      <td>19536.0</td>\n",
              "      <td>40.375665</td>\n",
              "      <td>12.483166</td>\n",
              "      <td>1.0</td>\n",
              "      <td>40.000000</td>\n",
              "      <td>40.000000</td>\n",
              "      <td>45.000000</td>\n",
              "      <td>99.0</td>\n",
              "    </tr>\n",
              "    <tr>\n",
              "      <th>ratings</th>\n",
              "      <td>19536.0</td>\n",
              "      <td>0.038826</td>\n",
              "      <td>0.075971</td>\n",
              "      <td>0.0</td>\n",
              "      <td>0.027465</td>\n",
              "      <td>0.027465</td>\n",
              "      <td>0.027465</td>\n",
              "      <td>1.0</td>\n",
              "    </tr>\n",
              "    <tr>\n",
              "      <th>netgain</th>\n",
              "      <td>19536.0</td>\n",
              "      <td>0.238022</td>\n",
              "      <td>0.425884</td>\n",
              "      <td>0.0</td>\n",
              "      <td>0.000000</td>\n",
              "      <td>0.000000</td>\n",
              "      <td>0.000000</td>\n",
              "      <td>1.0</td>\n",
              "    </tr>\n",
              "  </tbody>\n",
              "</table>\n",
              "</div>"
            ],
            "text/plain": [
              "                                     count       mean  ...        75%   max\n",
              "average_runtime(minutes_per_week)  19536.0  40.375665  ...  45.000000  99.0\n",
              "ratings                            19536.0   0.038826  ...   0.027465   1.0\n",
              "netgain                            19536.0   0.238022  ...   0.000000   1.0\n",
              "\n",
              "[3 rows x 8 columns]"
            ]
          },
          "metadata": {
            "tags": []
          },
          "execution_count": 796
        }
      ]
    },
    {
      "cell_type": "code",
      "metadata": {
        "colab": {
          "base_uri": "https://localhost:8080/",
          "height": 171
        },
        "id": "RufmE5avzDhz",
        "outputId": "42c8896c-1e6c-4778-e1a5-1a38f4c9ee2d"
      },
      "source": [
        "#Ananlysing basic statistical details\n",
        "df_train.describe(include= object)"
      ],
      "execution_count": 797,
      "outputs": [
        {
          "output_type": "execute_result",
          "data": {
            "text/html": [
              "<div>\n",
              "<style scoped>\n",
              "    .dataframe tbody tr th:only-of-type {\n",
              "        vertical-align: middle;\n",
              "    }\n",
              "\n",
              "    .dataframe tbody tr th {\n",
              "        vertical-align: top;\n",
              "    }\n",
              "\n",
              "    .dataframe thead th {\n",
              "        text-align: right;\n",
              "    }\n",
              "</style>\n",
              "<table border=\"1\" class=\"dataframe\">\n",
              "  <thead>\n",
              "    <tr style=\"text-align: right;\">\n",
              "      <th></th>\n",
              "      <th>UserID</th>\n",
              "      <th>relationship_status</th>\n",
              "      <th>industry</th>\n",
              "      <th>genre</th>\n",
              "      <th>targeted_sex</th>\n",
              "      <th>airtime</th>\n",
              "      <th>airlocation</th>\n",
              "      <th>expensive</th>\n",
              "      <th>money_back_guarantee</th>\n",
              "    </tr>\n",
              "  </thead>\n",
              "  <tbody>\n",
              "    <tr>\n",
              "      <th>count</th>\n",
              "      <td>19536</td>\n",
              "      <td>19536</td>\n",
              "      <td>19536</td>\n",
              "      <td>19536</td>\n",
              "      <td>19536</td>\n",
              "      <td>19536</td>\n",
              "      <td>19536</td>\n",
              "      <td>19536</td>\n",
              "      <td>19536</td>\n",
              "    </tr>\n",
              "    <tr>\n",
              "      <th>unique</th>\n",
              "      <td>19536</td>\n",
              "      <td>7</td>\n",
              "      <td>6</td>\n",
              "      <td>5</td>\n",
              "      <td>2</td>\n",
              "      <td>3</td>\n",
              "      <td>42</td>\n",
              "      <td>3</td>\n",
              "      <td>2</td>\n",
              "    </tr>\n",
              "    <tr>\n",
              "      <th>top</th>\n",
              "      <td>UI_17751</td>\n",
              "      <td>Married-civ-spouse</td>\n",
              "      <td>Pharma</td>\n",
              "      <td>Comedy</td>\n",
              "      <td>Male</td>\n",
              "      <td>Primetime</td>\n",
              "      <td>United-States</td>\n",
              "      <td>Low</td>\n",
              "      <td>Yes</td>\n",
              "    </tr>\n",
              "    <tr>\n",
              "      <th>freq</th>\n",
              "      <td>1</td>\n",
              "      <td>8899</td>\n",
              "      <td>7735</td>\n",
              "      <td>16699</td>\n",
              "      <td>12869</td>\n",
              "      <td>11755</td>\n",
              "      <td>17434</td>\n",
              "      <td>11756</td>\n",
              "      <td>9788</td>\n",
              "    </tr>\n",
              "  </tbody>\n",
              "</table>\n",
              "</div>"
            ],
            "text/plain": [
              "          UserID relationship_status  ... expensive money_back_guarantee\n",
              "count      19536               19536  ...     19536                19536\n",
              "unique     19536                   7  ...         3                    2\n",
              "top     UI_17751  Married-civ-spouse  ...       Low                  Yes\n",
              "freq           1                8899  ...     11756                 9788\n",
              "\n",
              "[4 rows x 9 columns]"
            ]
          },
          "metadata": {
            "tags": []
          },
          "execution_count": 797
        }
      ]
    },
    {
      "cell_type": "code",
      "metadata": {
        "colab": {
          "base_uri": "https://localhost:8080/",
          "height": 171
        },
        "id": "ujj_MzghZcOA",
        "outputId": "a47d366d-66f7-4762-bbf0-6a0fce88076e"
      },
      "source": [
        "df_test.describe(include= object)"
      ],
      "execution_count": 798,
      "outputs": [
        {
          "output_type": "execute_result",
          "data": {
            "text/html": [
              "<div>\n",
              "<style scoped>\n",
              "    .dataframe tbody tr th:only-of-type {\n",
              "        vertical-align: middle;\n",
              "    }\n",
              "\n",
              "    .dataframe tbody tr th {\n",
              "        vertical-align: top;\n",
              "    }\n",
              "\n",
              "    .dataframe thead th {\n",
              "        text-align: right;\n",
              "    }\n",
              "</style>\n",
              "<table border=\"1\" class=\"dataframe\">\n",
              "  <thead>\n",
              "    <tr style=\"text-align: right;\">\n",
              "      <th></th>\n",
              "      <th>UserID</th>\n",
              "      <th>relationship_status</th>\n",
              "      <th>industry</th>\n",
              "      <th>genre</th>\n",
              "      <th>targeted_sex</th>\n",
              "      <th>airtime</th>\n",
              "      <th>airlocation</th>\n",
              "      <th>expensive</th>\n",
              "      <th>money_back_guarantee</th>\n",
              "    </tr>\n",
              "  </thead>\n",
              "  <tbody>\n",
              "    <tr>\n",
              "      <th>count</th>\n",
              "      <td>6512</td>\n",
              "      <td>6512</td>\n",
              "      <td>6512</td>\n",
              "      <td>6512</td>\n",
              "      <td>6512</td>\n",
              "      <td>6512</td>\n",
              "      <td>6512</td>\n",
              "      <td>6512</td>\n",
              "      <td>6512</td>\n",
              "    </tr>\n",
              "    <tr>\n",
              "      <th>unique</th>\n",
              "      <td>6512</td>\n",
              "      <td>7</td>\n",
              "      <td>6</td>\n",
              "      <td>5</td>\n",
              "      <td>2</td>\n",
              "      <td>3</td>\n",
              "      <td>41</td>\n",
              "      <td>3</td>\n",
              "      <td>2</td>\n",
              "    </tr>\n",
              "    <tr>\n",
              "      <th>top</th>\n",
              "      <td>UI_18319</td>\n",
              "      <td>Married-civ-spouse</td>\n",
              "      <td>Pharma</td>\n",
              "      <td>Comedy</td>\n",
              "      <td>Male</td>\n",
              "      <td>Primetime</td>\n",
              "      <td>United-States</td>\n",
              "      <td>Low</td>\n",
              "      <td>Yes</td>\n",
              "    </tr>\n",
              "    <tr>\n",
              "      <th>freq</th>\n",
              "      <td>1</td>\n",
              "      <td>2945</td>\n",
              "      <td>2604</td>\n",
              "      <td>5559</td>\n",
              "      <td>4376</td>\n",
              "      <td>3897</td>\n",
              "      <td>5816</td>\n",
              "      <td>3937</td>\n",
              "      <td>3285</td>\n",
              "    </tr>\n",
              "  </tbody>\n",
              "</table>\n",
              "</div>"
            ],
            "text/plain": [
              "          UserID relationship_status  ... expensive money_back_guarantee\n",
              "count       6512                6512  ...      6512                 6512\n",
              "unique      6512                   7  ...         3                    2\n",
              "top     UI_18319  Married-civ-spouse  ...       Low                  Yes\n",
              "freq           1                2945  ...      3937                 3285\n",
              "\n",
              "[4 rows x 9 columns]"
            ]
          },
          "metadata": {
            "tags": []
          },
          "execution_count": 798
        }
      ]
    },
    {
      "cell_type": "code",
      "metadata": {
        "colab": {
          "base_uri": "https://localhost:8080/"
        },
        "id": "wTSQP3AyziMj",
        "outputId": "7bb312fc-3a4b-4247-d47c-15390936ae21"
      },
      "source": [
        "#total data present\n",
        "print('total train data: ' + str(df_train.shape[0]))\n",
        "print('total test data: ' + str(df_test.shape[0]))"
      ],
      "execution_count": 799,
      "outputs": [
        {
          "output_type": "stream",
          "text": [
            "total train data: 19536\n",
            "total test data: 6512\n"
          ],
          "name": "stdout"
        }
      ]
    },
    {
      "cell_type": "code",
      "metadata": {
        "colab": {
          "base_uri": "https://localhost:8080/"
        },
        "id": "e7pko6Qn0B8D",
        "outputId": "41725604-ee08-4534-ea27-4ee582de0731"
      },
      "source": [
        "df_train[\"netgain\"].value_counts()"
      ],
      "execution_count": 800,
      "outputs": [
        {
          "output_type": "execute_result",
          "data": {
            "text/plain": [
              "0    14886\n",
              "1     4650\n",
              "Name: netgain, dtype: int64"
            ]
          },
          "metadata": {
            "tags": []
          },
          "execution_count": 800
        }
      ]
    },
    {
      "cell_type": "code",
      "metadata": {
        "colab": {
          "base_uri": "https://localhost:8080/"
        },
        "id": "MwhZIoA_o5HO",
        "outputId": "c77ed556-87ea-440f-f836-115c03669ca9"
      },
      "source": [
        "df_train.airlocation.value_counts()"
      ],
      "execution_count": 801,
      "outputs": [
        {
          "output_type": "execute_result",
          "data": {
            "text/plain": [
              "United-States                 17434\n",
              "Mexico                          394\n",
              "International                   355\n",
              "Philippines                     112\n",
              "Germany                          75\n",
              "Cuba                             68\n",
              "Puerto-Rico                      65\n",
              "Canada                           65\n",
              "El-Salvador                      64\n",
              "India                            62\n",
              "England                          56\n",
              "Italy                            52\n",
              "Guatemala                        50\n",
              "South                            48\n",
              "Poland                           47\n",
              "Dominican-Republic               47\n",
              "Jamaica                          46\n",
              "Vietnam                          45\n",
              "Columbia                         42\n",
              "Japan                            38\n",
              "China                            36\n",
              "Iran                             31\n",
              "Taiwan                           29\n",
              "Haiti                            26\n",
              "Ecuador                          25\n",
              "Nicaragua                        23\n",
              "Portugal                         22\n",
              "Peru                             21\n",
              "France                           20\n",
              "Yugoslavia                       19\n",
              "Trinadad&Tobago                  17\n",
              "Ireland                          14\n",
              "Hong                             13\n",
              "Laos                             13\n",
              "Greece                           12\n",
              "Cambodia                         12\n",
              "Honduras                          9\n",
              "Thailand                          9\n",
              "Hungary                           7\n",
              "Outlying-US(Guam-USVI-etc)        6\n",
              "Scotland                          6\n",
              "Holand-Netherlands                1\n",
              "Name: airlocation, dtype: int64"
            ]
          },
          "metadata": {
            "tags": []
          },
          "execution_count": 801
        }
      ]
    },
    {
      "cell_type": "code",
      "metadata": {
        "colab": {
          "base_uri": "https://localhost:8080/"
        },
        "id": "svpb-x7eY7Uv",
        "outputId": "4f29fc04-4db6-4c11-8fbf-9a3805071576"
      },
      "source": [
        "df_test.airlocation.value_counts()"
      ],
      "execution_count": 802,
      "outputs": [
        {
          "output_type": "execute_result",
          "data": {
            "text/plain": [
              "United-States                 5816\n",
              "Mexico                         129\n",
              "International                  110\n",
              "Germany                         39\n",
              "Philippines                     29\n",
              "Canada                          29\n",
              "England                         23\n",
              "South                           21\n",
              "El-Salvador                     20\n",
              "Puerto-Rico                     20\n",
              "Poland                          19\n",
              "India                           19\n",
              "Cuba                            18\n",
              "Italy                           18\n",
              "China                           17\n",
              "Jamaica                         17\n",
              "Japan                           16\n",
              "Dominican-Republic              15\n",
              "Columbia                        13\n",
              "Vietnam                         12\n",
              "Guatemala                       11\n",
              "Haiti                            9\n",
              "Taiwan                           8\n",
              "Portugal                         8\n",
              "Ireland                          8\n",
              "France                           7\n",
              "Peru                             7\n",
              "Honduras                         6\n",
              "Ecuador                          6\n",
              "Scotland                         6\n",
              "Iran                             5\n",
              "Yugoslavia                       5\n",
              "Nicaragua                        5\n",
              "Cambodia                         4\n",
              "Greece                           4\n",
              "Laos                             4\n",
              "Thailand                         4\n",
              "Outlying-US(Guam-USVI-etc)       2\n",
              "Hungary                          1\n",
              "Holand-Netherlands               1\n",
              "Hong                             1\n",
              "Name: airlocation, dtype: int64"
            ]
          },
          "metadata": {
            "tags": []
          },
          "execution_count": 802
        }
      ]
    },
    {
      "cell_type": "markdown",
      "metadata": {
        "id": "zUs0RxVHmUeD"
      },
      "source": [
        "## Basic Exploratory Data Analysis"
      ]
    },
    {
      "cell_type": "code",
      "metadata": {
        "colab": {
          "base_uri": "https://localhost:8080/",
          "height": 0
        },
        "id": "uXYANVY5pIYu",
        "outputId": "2e307064-5e65-4799-849e-1b6c43d941f0"
      },
      "source": [
        "#correlation matrix\n",
        "corrmat = df_train.corr()\n",
        "f, ax = plt.subplots(figsize=(10, 8))\n",
        "sns.heatmap(corrmat, vmax=.8, square=True);"
      ],
      "execution_count": 803,
      "outputs": [
        {
          "output_type": "display_data",
          "data": {
            "image/png": "[encoded data removed]",
            "text/plain": [
              "<Figure size 720x576 with 2 Axes>"
            ]
          },
          "metadata": {
            "tags": [],
            "needs_background": "light"
          }
        }
      ]
    },
    {
      "cell_type": "markdown",
      "metadata": {
        "id": "NRAlK3DTtG9b"
      },
      "source": [
        "Correlation\r\n",
        "\r\n",
        "When two sets of data are strongly linked together we say they have a High Correlation.\r\n",
        "\r\n",
        "The word Correlation is made of Co- (meaning \"together\"), and Relation\r\n",
        "\r\n",
        "Correlation is Positive when the values increase together, and Correlation is Negative when one value decreases as the other increases A correlation is assumed to be linear (following a line).\r\n",
        "\r\n",
        "correlation examples Correlation can have a value:\r\n",
        "\r\n",
        "1 is a perfect positive correlation 0 is no correlation (the values don't seem linked at all) -1 is a perfect negative correlation The value shows how good the correlation is (not how steep the line is), and if it is positive or negative."
      ]
    },
    {
      "cell_type": "code",
      "metadata": {
        "id": "jD2KIc71menH"
      },
      "source": [
        "# method to add percentage on the plot\n",
        "def add_percentage(ax, total):\n",
        "    for i in ax.patches:\n",
        "        height = i.get_height()\n",
        "        ax.text(i.get_x()+i.get_width()/2.,height + 5,'{:1.2f}'.format(height/total*100) + '%')"
      ],
      "execution_count": 804,
      "outputs": []
    },
    {
      "cell_type": "code",
      "metadata": {
        "colab": {
          "base_uri": "https://localhost:8080/",
          "height": 0
        },
        "id": "5g_sDAKE0Iuf",
        "outputId": "99f1d0d2-f27c-40f3-88f1-166ceade120e"
      },
      "source": [
        "sns.set()\n",
        "total = float(len(df_train))\n",
        "ax = sns.countplot(df_train.netgain)\n",
        "\n",
        "add_percentage(ax, total)"
      ],
      "execution_count": 805,
      "outputs": [
        {
          "output_type": "display_data",
          "data": {
            "image/png": "[encoded data removed]",
            "text/plain": [
              "<Figure size 432x288 with 1 Axes>"
            ]
          },
          "metadata": {
            "tags": []
          }
        }
      ]
    },
    {
      "cell_type": "code",
      "metadata": {
        "colab": {
          "base_uri": "https://localhost:8080/",
          "height": 0
        },
        "id": "CvGmXRwW0RYf",
        "outputId": "80eff110-d76b-4059-dffe-53ed71ba5a7a"
      },
      "source": [
        "df_train.relationship_status.value_counts(ascending=True).plot.barh(figsize=(10,8))\n"
      ],
      "execution_count": 806,
      "outputs": [
        {
          "output_type": "execute_result",
          "data": {
            "text/plain": [
              "<matplotlib.axes._subplots.AxesSubplot at 0x7f716eb9dc50>"
            ]
          },
          "metadata": {
            "tags": []
          },
          "execution_count": 806
        },
        {
          "output_type": "display_data",
          "data": {
            "image/png": "[encoded data removed]",
            "text/plain": [
              "<Figure size 720x576 with 1 Axes>"
            ]
          },
          "metadata": {
            "tags": []
          }
        }
      ]
    },
    {
      "cell_type": "code",
      "metadata": {
        "colab": {
          "base_uri": "https://localhost:8080/",
          "height": 0
        },
        "id": "-1IUcefgHHxp",
        "outputId": "b649a191-c6c9-4a32-b16c-a1041292f740"
      },
      "source": [
        "df_train.genre.value_counts(ascending=True).plot.barh(figsize=(10,8))"
      ],
      "execution_count": 807,
      "outputs": [
        {
          "output_type": "execute_result",
          "data": {
            "text/plain": [
              "<matplotlib.axes._subplots.AxesSubplot at 0x7f716eb18cc0>"
            ]
          },
          "metadata": {
            "tags": []
          },
          "execution_count": 807
        },
        {
          "output_type": "display_data",
          "data": {
            "image/png": "[encoded data removed]",
            "text/plain": [
              "<Figure size 720x576 with 1 Axes>"
            ]
          },
          "metadata": {
            "tags": []
          }
        }
      ]
    },
    {
      "cell_type": "code",
      "metadata": {
        "colab": {
          "base_uri": "https://localhost:8080/",
          "height": 0
        },
        "id": "IRhJWjz0HH5n",
        "outputId": "3aae02ae-46c5-4653-df52-30aaeeb8e96d"
      },
      "source": [
        "df_train.targeted_sex.value_counts(ascending=True).plot.bar(figsize=(10,8))"
      ],
      "execution_count": 808,
      "outputs": [
        {
          "output_type": "execute_result",
          "data": {
            "text/plain": [
              "<matplotlib.axes._subplots.AxesSubplot at 0x7f716eafca58>"
            ]
          },
          "metadata": {
            "tags": []
          },
          "execution_count": 808
        },
        {
          "output_type": "display_data",
          "data": {
            "image/png": "[encoded data removed]",
            "text/plain": [
              "<Figure size 720x576 with 1 Axes>"
            ]
          },
          "metadata": {
            "tags": []
          }
        }
      ]
    },
    {
      "cell_type": "code",
      "metadata": {
        "colab": {
          "base_uri": "https://localhost:8080/",
          "height": 0
        },
        "id": "jEBbevrUHH8f",
        "outputId": "b2ba963a-0a8c-4640-d031-575de67da7fe"
      },
      "source": [
        "plt.figure(figsize=(15,6))\n",
        "total = float(len(df_train))\n",
        "ax= sns.countplot(df_train.industry)\n",
        "add_percentage(ax, total)"
      ],
      "execution_count": 809,
      "outputs": [
        {
          "output_type": "display_data",
          "data": {
            "image/png": "[encoded data removed]",
            "text/plain": [
              "<Figure size 1080x432 with 1 Axes>"
            ]
          },
          "metadata": {
            "tags": []
          }
        }
      ]
    },
    {
      "cell_type": "code",
      "metadata": {
        "colab": {
          "base_uri": "https://localhost:8080/",
          "height": 0
        },
        "id": "gnu5MwAAHH_m",
        "outputId": "eff37b38-38bb-473d-bb52-e7ce0da5c145"
      },
      "source": [
        "total = float(len(df_train))\n",
        "ax= sns.countplot(df_train.airtime)\n",
        "add_percentage(ax, total)"
      ],
      "execution_count": 810,
      "outputs": [
        {
          "output_type": "display_data",
          "data": {
            "image/png": "[encoded data removed]",
            "text/plain": [
              "<Figure size 432x288 with 1 Axes>"
            ]
          },
          "metadata": {
            "tags": []
          }
        }
      ]
    },
    {
      "cell_type": "code",
      "metadata": {
        "colab": {
          "base_uri": "https://localhost:8080/",
          "height": 0
        },
        "id": "2kemdsqVpeaw",
        "outputId": "85b71308-dc5d-485c-aa51-1f9d55cf0919"
      },
      "source": [
        "plt.figure(figsize=(12,5))\n",
        "ax= sns.countplot(x='industry',hue='netgain',data=df_train,order=df_train['industry'].value_counts().sort_values().index);\n",
        "add_percentage(ax, total)"
      ],
      "execution_count": 811,
      "outputs": [
        {
          "output_type": "display_data",
          "data": {
            "image/png": "[encoded data removed]",
            "text/plain": [
              "<Figure size 864x360 with 1 Axes>"
            ]
          },
          "metadata": {
            "tags": []
          }
        }
      ]
    },
    {
      "cell_type": "code",
      "metadata": {
        "colab": {
          "base_uri": "https://localhost:8080/",
          "height": 0
        },
        "id": "ZUavPwqppf74",
        "outputId": "1c4b596b-6a02-4882-9e95-891483c6520e"
      },
      "source": [
        "plt.figure(figsize=(10,4))\n",
        "ax=sns.countplot(x='targeted_sex',data=df_train,order=df_train['targeted_sex'].value_counts().sort_values().index,hue=df_train.netgain);\n",
        "add_percentage(ax, total)"
      ],
      "execution_count": 812,
      "outputs": [
        {
          "output_type": "display_data",
          "data": {
            "image/png": "[encoded data removed]",
            "text/plain": [
              "<Figure size 720x288 with 1 Axes>"
            ]
          },
          "metadata": {
            "tags": []
          }
        }
      ]
    },
    {
      "cell_type": "code",
      "metadata": {
        "colab": {
          "base_uri": "https://localhost:8080/",
          "height": 0
        },
        "id": "GuICCU3GpjpE",
        "outputId": "0a663772-473b-4b79-caac-ddfb0bc386e5"
      },
      "source": [
        "plt.figure(figsize=(10,4))\n",
        "ax=sns.countplot(x='genre',hue='netgain',data=df_train,order=df_train['genre'].value_counts().sort_values().index);\n",
        "add_percentage(ax, total)"
      ],
      "execution_count": 813,
      "outputs": [
        {
          "output_type": "display_data",
          "data": {
            "image/png": "[encoded data removed]",
            "text/plain": [
              "<Figure size 720x288 with 1 Axes>"
            ]
          },
          "metadata": {
            "tags": []
          }
        }
      ]
    },
    {
      "cell_type": "code",
      "metadata": {
        "colab": {
          "base_uri": "https://localhost:8080/",
          "height": 0
        },
        "id": "rqHfsS3zpteZ",
        "outputId": "6bce106f-c211-4088-e4e8-4c491a865385"
      },
      "source": [
        "plt.figure(figsize=(15,7))\n",
        "ax=sns.countplot(x='expensive',hue='genre',data=df_train,order=df_train['expensive'].value_counts().sort_values().index);\n",
        "add_percentage(ax, total)"
      ],
      "execution_count": 814,
      "outputs": [
        {
          "output_type": "display_data",
          "data": {
            "image/png": "[encoded data removed]",
            "text/plain": [
              "<Figure size 1080x504 with 1 Axes>"
            ]
          },
          "metadata": {
            "tags": []
          }
        }
      ]
    },
    {
      "cell_type": "code",
      "metadata": {
        "colab": {
          "base_uri": "https://localhost:8080/",
          "height": 0
        },
        "id": "ancCvTcbpvp4",
        "outputId": "926f4403-ac4e-4cc5-c768-a25f5ae4f6db"
      },
      "source": [
        "plt.figure(figsize=(11,5))\n",
        "sns.countplot(x='genre',hue='netgain', data=df_train,palette=\"Set1\")\n",
        "plt.xlabel('Genre')\n",
        "plt.ylabel('Count')\n",
        "plt.title('Genre Wise Netgain')\n",
        "plt.show()"
      ],
      "execution_count": 815,
      "outputs": [
        {
          "output_type": "display_data",
          "data": {
            "image/png": "[encoded data removed]",
            "text/plain": [
              "<Figure size 792x360 with 1 Axes>"
            ]
          },
          "metadata": {
            "tags": []
          }
        }
      ]
    },
    {
      "cell_type": "code",
      "metadata": {
        "colab": {
          "base_uri": "https://localhost:8080/"
        },
        "id": "IemwG8wSlsb6",
        "outputId": "dc37d68f-f4f8-49a8-9c76-76180bc7a77d"
      },
      "source": [
        "print(df_train.relationship_status.value_counts())\n",
        "print(\"\")\n",
        "print(df_train.industry.value_counts())"
      ],
      "execution_count": 816,
      "outputs": [
        {
          "output_type": "stream",
          "text": [
            "Married-civ-spouse       8899\n",
            "Never-married            6433\n",
            "Divorced                 2700\n",
            "Widowed                   616\n",
            "Separated                 598\n",
            "Married-spouse-absent     274\n",
            "Married-AF-spouse          16\n",
            "Name: relationship_status, dtype: int64\n",
            "\n",
            "Pharma           7735\n",
            "Auto             5058\n",
            "Political        3039\n",
            "Entertainment    2064\n",
            "Other            1031\n",
            "ClassAction       609\n",
            "Name: industry, dtype: int64\n"
          ],
          "name": "stdout"
        }
      ]
    },
    {
      "cell_type": "code",
      "metadata": {
        "colab": {
          "base_uri": "https://localhost:8080/"
        },
        "id": "u43JiVOOoosb",
        "outputId": "0997181e-e305-44b0-b189-801e7a4224cc"
      },
      "source": [
        "df_train.columns"
      ],
      "execution_count": 817,
      "outputs": [
        {
          "output_type": "execute_result",
          "data": {
            "text/plain": [
              "Index(['UserID', 'relationship_status', 'industry', 'genre', 'targeted_sex',\n",
              "       'average_runtime(minutes_per_week)', 'airtime', 'airlocation',\n",
              "       'ratings', 'expensive', 'money_back_guarantee', 'netgain'],\n",
              "      dtype='object')"
            ]
          },
          "metadata": {
            "tags": []
          },
          "execution_count": 817
        }
      ]
    },
    {
      "cell_type": "code",
      "metadata": {
        "id": "U3PZhZi0h1Z3"
      },
      "source": [
        "column= ['UserID', 'relationship_status', 'industry', 'genre', 'targeted_sex',\n",
        "       'average_runtime(minutes_per_week)', 'airtime', 'airlocation',\n",
        "       'ratings', 'expensive', 'money_back_guarantee', 'netgain']"
      ],
      "execution_count": 818,
      "outputs": []
    },
    {
      "cell_type": "code",
      "metadata": {
        "colab": {
          "base_uri": "https://localhost:8080/"
        },
        "id": "6j_KcQLTHICd",
        "outputId": "24278c68-ecab-4fb6-8976-727983d220d5"
      },
      "source": [
        "for column in df_train.columns:\n",
        "    print(column, '--> ',df_train[column].nunique())"
      ],
      "execution_count": 819,
      "outputs": [
        {
          "output_type": "stream",
          "text": [
            "UserID -->  19536\n",
            "relationship_status -->  7\n",
            "industry -->  6\n",
            "genre -->  5\n",
            "targeted_sex -->  2\n",
            "average_runtime(minutes_per_week) -->  89\n",
            "airtime -->  3\n",
            "airlocation -->  42\n",
            "ratings -->  120\n",
            "expensive -->  3\n",
            "money_back_guarantee -->  2\n",
            "netgain -->  2\n"
          ],
          "name": "stdout"
        }
      ]
    },
    {
      "cell_type": "code",
      "metadata": {
        "colab": {
          "base_uri": "https://localhost:8080/",
          "height": 0
        },
        "id": "DNA3Ix0IqJFG",
        "outputId": "7d45182a-5fbd-4127-b4ee-c3da2ea92ddb"
      },
      "source": [
        "sns.set()\n",
        "cols = ['relationship_status','industry','genre','targeted_sex','average_runtime(minutes_per_week)','airtime','airlocation','ratings','expensive','money_back_guarantee','netgain']\n",
        "sns.pairplot(df_train[cols], size = 2.5)\n",
        "plt.show()"
      ],
      "execution_count": 820,
      "outputs": [
        {
          "output_type": "display_data",
          "data": {
            "image/png": "[encoded data removed]",
            "text/plain": [
              "<Figure size 540x540 with 12 Axes>"
            ]
          },
          "metadata": {
            "tags": []
          }
        }
      ]
    },
    {
      "cell_type": "code",
      "metadata": {
        "colab": {
          "base_uri": "https://localhost:8080/",
          "height": 0
        },
        "id": "Fl6rviOjpmS2",
        "outputId": "b578c89c-883f-4b9c-b306-e2566f8c7c49"
      },
      "source": [
        "plt.figure(figsize=(15,6))\n",
        "sns.distplot(df_train['average_runtime(minutes_per_week)'])\n",
        "plt.show()"
      ],
      "execution_count": 821,
      "outputs": [
        {
          "output_type": "display_data",
          "data": {
            "image/png": "[encoded data removed]",
            "text/plain": [
              "<Figure size 1080x432 with 1 Axes>"
            ]
          },
          "metadata": {
            "tags": []
          }
        }
      ]
    },
    {
      "cell_type": "code",
      "metadata": {
        "id": "VTB2t8nZ3EeD"
      },
      "source": [
        "#df=pd.concat([df_train,df_test],ignore_index=True)"
      ],
      "execution_count": 822,
      "outputs": []
    },
    {
      "cell_type": "markdown",
      "metadata": {
        "id": "kgVYqz5Xqkx7"
      },
      "source": [
        "##Encoding Categorical Columns\n"
      ]
    },
    {
      "cell_type": "code",
      "metadata": {
        "colab": {
          "base_uri": "https://localhost:8080/",
          "height": 222
        },
        "id": "vRu9E4kAs5t7",
        "outputId": "1809387d-ca90-464b-ffc8-161dea8f0f2c"
      },
      "source": [
        "df_train.head()"
      ],
      "execution_count": 823,
      "outputs": [
        {
          "output_type": "execute_result",
          "data": {
            "text/html": [
              "<div>\n",
              "<style scoped>\n",
              "    .dataframe tbody tr th:only-of-type {\n",
              "        vertical-align: middle;\n",
              "    }\n",
              "\n",
              "    .dataframe tbody tr th {\n",
              "        vertical-align: top;\n",
              "    }\n",
              "\n",
              "    .dataframe thead th {\n",
              "        text-align: right;\n",
              "    }\n",
              "</style>\n",
              "<table border=\"1\" class=\"dataframe\">\n",
              "  <thead>\n",
              "    <tr style=\"text-align: right;\">\n",
              "      <th></th>\n",
              "      <th>UserID</th>\n",
              "      <th>relationship_status</th>\n",
              "      <th>industry</th>\n",
              "      <th>genre</th>\n",
              "      <th>targeted_sex</th>\n",
              "      <th>average_runtime(minutes_per_week)</th>\n",
              "      <th>airtime</th>\n",
              "      <th>airlocation</th>\n",
              "      <th>ratings</th>\n",
              "      <th>expensive</th>\n",
              "      <th>money_back_guarantee</th>\n",
              "      <th>netgain</th>\n",
              "    </tr>\n",
              "  </thead>\n",
              "  <tbody>\n",
              "    <tr>\n",
              "      <th>0</th>\n",
              "      <td>UI_9185</td>\n",
              "      <td>Married-civ-spouse</td>\n",
              "      <td>Pharma</td>\n",
              "      <td>Comedy</td>\n",
              "      <td>Male</td>\n",
              "      <td>40</td>\n",
              "      <td>Daytime</td>\n",
              "      <td>United-States</td>\n",
              "      <td>0.027465</td>\n",
              "      <td>Medium</td>\n",
              "      <td>No</td>\n",
              "      <td>0</td>\n",
              "    </tr>\n",
              "    <tr>\n",
              "      <th>1</th>\n",
              "      <td>UI_449</td>\n",
              "      <td>Never-married</td>\n",
              "      <td>Political</td>\n",
              "      <td>Comedy</td>\n",
              "      <td>Male</td>\n",
              "      <td>35</td>\n",
              "      <td>Morning</td>\n",
              "      <td>International</td>\n",
              "      <td>0.027465</td>\n",
              "      <td>Low</td>\n",
              "      <td>No</td>\n",
              "      <td>0</td>\n",
              "    </tr>\n",
              "    <tr>\n",
              "      <th>2</th>\n",
              "      <td>UI_9014</td>\n",
              "      <td>Never-married</td>\n",
              "      <td>Auto</td>\n",
              "      <td>Comedy</td>\n",
              "      <td>Male</td>\n",
              "      <td>40</td>\n",
              "      <td>Morning</td>\n",
              "      <td>United-States</td>\n",
              "      <td>0.027465</td>\n",
              "      <td>Low</td>\n",
              "      <td>No</td>\n",
              "      <td>0</td>\n",
              "    </tr>\n",
              "    <tr>\n",
              "      <th>3</th>\n",
              "      <td>UI_14987</td>\n",
              "      <td>Married-civ-spouse</td>\n",
              "      <td>Pharma</td>\n",
              "      <td>Infomercial</td>\n",
              "      <td>Male</td>\n",
              "      <td>40</td>\n",
              "      <td>Primetime</td>\n",
              "      <td>United-States</td>\n",
              "      <td>0.027465</td>\n",
              "      <td>Low</td>\n",
              "      <td>Yes</td>\n",
              "      <td>0</td>\n",
              "    </tr>\n",
              "    <tr>\n",
              "      <th>4</th>\n",
              "      <td>UI_25532</td>\n",
              "      <td>Married-civ-spouse</td>\n",
              "      <td>Other</td>\n",
              "      <td>Comedy</td>\n",
              "      <td>Female</td>\n",
              "      <td>50</td>\n",
              "      <td>Primetime</td>\n",
              "      <td>United-States</td>\n",
              "      <td>0.027465</td>\n",
              "      <td>Low</td>\n",
              "      <td>Yes</td>\n",
              "      <td>1</td>\n",
              "    </tr>\n",
              "  </tbody>\n",
              "</table>\n",
              "</div>"
            ],
            "text/plain": [
              "     UserID relationship_status  ... money_back_guarantee netgain\n",
              "0   UI_9185  Married-civ-spouse  ...                   No       0\n",
              "1    UI_449       Never-married  ...                   No       0\n",
              "2   UI_9014       Never-married  ...                   No       0\n",
              "3  UI_14987  Married-civ-spouse  ...                  Yes       0\n",
              "4  UI_25532  Married-civ-spouse  ...                  Yes       1\n",
              "\n",
              "[5 rows x 12 columns]"
            ]
          },
          "metadata": {
            "tags": []
          },
          "execution_count": 823
        }
      ]
    },
    {
      "cell_type": "code",
      "metadata": {
        "id": "7qWMHfRrs9MD"
      },
      "source": [
        "df_train=pd.get_dummies(df_train,columns=['relationship_status','airlocation','industry','genre','targeted_sex','airtime','expensive','money_back_guarantee'])"
      ],
      "execution_count": 824,
      "outputs": []
    },
    {
      "cell_type": "code",
      "metadata": {
        "colab": {
          "base_uri": "https://localhost:8080/",
          "height": 239
        },
        "id": "7YBsV6nmJxup",
        "outputId": "043bb6de-f997-4572-dcf2-8f9dd2c8eaaf"
      },
      "source": [
        "df_train.head()"
      ],
      "execution_count": 825,
      "outputs": [
        {
          "output_type": "execute_result",
          "data": {
            "text/html": [
              "<div>\n",
              "<style scoped>\n",
              "    .dataframe tbody tr th:only-of-type {\n",
              "        vertical-align: middle;\n",
              "    }\n",
              "\n",
              "    .dataframe tbody tr th {\n",
              "        vertical-align: top;\n",
              "    }\n",
              "\n",
              "    .dataframe thead th {\n",
              "        text-align: right;\n",
              "    }\n",
              "</style>\n",
              "<table border=\"1\" class=\"dataframe\">\n",
              "  <thead>\n",
              "    <tr style=\"text-align: right;\">\n",
              "      <th></th>\n",
              "      <th>UserID</th>\n",
              "      <th>average_runtime(minutes_per_week)</th>\n",
              "      <th>ratings</th>\n",
              "      <th>netgain</th>\n",
              "      <th>relationship_status_Divorced</th>\n",
              "      <th>relationship_status_Married-AF-spouse</th>\n",
              "      <th>relationship_status_Married-civ-spouse</th>\n",
              "      <th>relationship_status_Married-spouse-absent</th>\n",
              "      <th>relationship_status_Never-married</th>\n",
              "      <th>relationship_status_Separated</th>\n",
              "      <th>relationship_status_Widowed</th>\n",
              "      <th>airlocation_Cambodia</th>\n",
              "      <th>airlocation_Canada</th>\n",
              "      <th>airlocation_China</th>\n",
              "      <th>airlocation_Columbia</th>\n",
              "      <th>airlocation_Cuba</th>\n",
              "      <th>airlocation_Dominican-Republic</th>\n",
              "      <th>airlocation_Ecuador</th>\n",
              "      <th>airlocation_El-Salvador</th>\n",
              "      <th>airlocation_England</th>\n",
              "      <th>airlocation_France</th>\n",
              "      <th>airlocation_Germany</th>\n",
              "      <th>airlocation_Greece</th>\n",
              "      <th>airlocation_Guatemala</th>\n",
              "      <th>airlocation_Haiti</th>\n",
              "      <th>airlocation_Holand-Netherlands</th>\n",
              "      <th>airlocation_Honduras</th>\n",
              "      <th>airlocation_Hong</th>\n",
              "      <th>airlocation_Hungary</th>\n",
              "      <th>airlocation_India</th>\n",
              "      <th>airlocation_International</th>\n",
              "      <th>airlocation_Iran</th>\n",
              "      <th>airlocation_Ireland</th>\n",
              "      <th>airlocation_Italy</th>\n",
              "      <th>airlocation_Jamaica</th>\n",
              "      <th>airlocation_Japan</th>\n",
              "      <th>airlocation_Laos</th>\n",
              "      <th>airlocation_Mexico</th>\n",
              "      <th>airlocation_Nicaragua</th>\n",
              "      <th>airlocation_Outlying-US(Guam-USVI-etc)</th>\n",
              "      <th>airlocation_Peru</th>\n",
              "      <th>airlocation_Philippines</th>\n",
              "      <th>airlocation_Poland</th>\n",
              "      <th>airlocation_Portugal</th>\n",
              "      <th>airlocation_Puerto-Rico</th>\n",
              "      <th>airlocation_Scotland</th>\n",
              "      <th>airlocation_South</th>\n",
              "      <th>airlocation_Taiwan</th>\n",
              "      <th>airlocation_Thailand</th>\n",
              "      <th>airlocation_Trinadad&amp;Tobago</th>\n",
              "      <th>airlocation_United-States</th>\n",
              "      <th>airlocation_Vietnam</th>\n",
              "      <th>airlocation_Yugoslavia</th>\n",
              "      <th>industry_Auto</th>\n",
              "      <th>industry_ClassAction</th>\n",
              "      <th>industry_Entertainment</th>\n",
              "      <th>industry_Other</th>\n",
              "      <th>industry_Pharma</th>\n",
              "      <th>industry_Political</th>\n",
              "      <th>genre_Comedy</th>\n",
              "      <th>genre_Direct</th>\n",
              "      <th>genre_Drama</th>\n",
              "      <th>genre_Infomercial</th>\n",
              "      <th>genre_Other</th>\n",
              "      <th>targeted_sex_Female</th>\n",
              "      <th>targeted_sex_Male</th>\n",
              "      <th>airtime_Daytime</th>\n",
              "      <th>airtime_Morning</th>\n",
              "      <th>airtime_Primetime</th>\n",
              "      <th>expensive_High</th>\n",
              "      <th>expensive_Low</th>\n",
              "      <th>expensive_Medium</th>\n",
              "      <th>money_back_guarantee_No</th>\n",
              "      <th>money_back_guarantee_Yes</th>\n",
              "    </tr>\n",
              "  </thead>\n",
              "  <tbody>\n",
              "    <tr>\n",
              "      <th>0</th>\n",
              "      <td>UI_9185</td>\n",
              "      <td>40</td>\n",
              "      <td>0.027465</td>\n",
              "      <td>0</td>\n",
              "      <td>0</td>\n",
              "      <td>0</td>\n",
              "      <td>1</td>\n",
              "      <td>0</td>\n",
              "      <td>0</td>\n",
              "      <td>0</td>\n",
              "      <td>0</td>\n",
              "      <td>0</td>\n",
              "      <td>0</td>\n",
              "      <td>0</td>\n",
              "      <td>0</td>\n",
              "      <td>0</td>\n",
              "      <td>0</td>\n",
              "      <td>0</td>\n",
              "      <td>0</td>\n",
              "      <td>0</td>\n",
              "      <td>0</td>\n",
              "      <td>0</td>\n",
              "      <td>0</td>\n",
              "      <td>0</td>\n",
              "      <td>0</td>\n",
              "      <td>0</td>\n",
              "      <td>0</td>\n",
              "      <td>0</td>\n",
              "      <td>0</td>\n",
              "      <td>0</td>\n",
              "      <td>0</td>\n",
              "      <td>0</td>\n",
              "      <td>0</td>\n",
              "      <td>0</td>\n",
              "      <td>0</td>\n",
              "      <td>0</td>\n",
              "      <td>0</td>\n",
              "      <td>0</td>\n",
              "      <td>0</td>\n",
              "      <td>0</td>\n",
              "      <td>0</td>\n",
              "      <td>0</td>\n",
              "      <td>0</td>\n",
              "      <td>0</td>\n",
              "      <td>0</td>\n",
              "      <td>0</td>\n",
              "      <td>0</td>\n",
              "      <td>0</td>\n",
              "      <td>0</td>\n",
              "      <td>0</td>\n",
              "      <td>1</td>\n",
              "      <td>0</td>\n",
              "      <td>0</td>\n",
              "      <td>0</td>\n",
              "      <td>0</td>\n",
              "      <td>0</td>\n",
              "      <td>0</td>\n",
              "      <td>1</td>\n",
              "      <td>0</td>\n",
              "      <td>1</td>\n",
              "      <td>0</td>\n",
              "      <td>0</td>\n",
              "      <td>0</td>\n",
              "      <td>0</td>\n",
              "      <td>0</td>\n",
              "      <td>1</td>\n",
              "      <td>1</td>\n",
              "      <td>0</td>\n",
              "      <td>0</td>\n",
              "      <td>0</td>\n",
              "      <td>0</td>\n",
              "      <td>1</td>\n",
              "      <td>1</td>\n",
              "      <td>0</td>\n",
              "    </tr>\n",
              "    <tr>\n",
              "      <th>1</th>\n",
              "      <td>UI_449</td>\n",
              "      <td>35</td>\n",
              "      <td>0.027465</td>\n",
              "      <td>0</td>\n",
              "      <td>0</td>\n",
              "      <td>0</td>\n",
              "      <td>0</td>\n",
              "      <td>0</td>\n",
              "      <td>1</td>\n",
              "      <td>0</td>\n",
              "      <td>0</td>\n",
              "      <td>0</td>\n",
              "      <td>0</td>\n",
              "      <td>0</td>\n",
              "      <td>0</td>\n",
              "      <td>0</td>\n",
              "      <td>0</td>\n",
              "      <td>0</td>\n",
              "      <td>0</td>\n",
              "      <td>0</td>\n",
              "      <td>0</td>\n",
              "      <td>0</td>\n",
              "      <td>0</td>\n",
              "      <td>0</td>\n",
              "      <td>0</td>\n",
              "      <td>0</td>\n",
              "      <td>0</td>\n",
              "      <td>0</td>\n",
              "      <td>0</td>\n",
              "      <td>0</td>\n",
              "      <td>1</td>\n",
              "      <td>0</td>\n",
              "      <td>0</td>\n",
              "      <td>0</td>\n",
              "      <td>0</td>\n",
              "      <td>0</td>\n",
              "      <td>0</td>\n",
              "      <td>0</td>\n",
              "      <td>0</td>\n",
              "      <td>0</td>\n",
              "      <td>0</td>\n",
              "      <td>0</td>\n",
              "      <td>0</td>\n",
              "      <td>0</td>\n",
              "      <td>0</td>\n",
              "      <td>0</td>\n",
              "      <td>0</td>\n",
              "      <td>0</td>\n",
              "      <td>0</td>\n",
              "      <td>0</td>\n",
              "      <td>0</td>\n",
              "      <td>0</td>\n",
              "      <td>0</td>\n",
              "      <td>0</td>\n",
              "      <td>0</td>\n",
              "      <td>0</td>\n",
              "      <td>0</td>\n",
              "      <td>0</td>\n",
              "      <td>1</td>\n",
              "      <td>1</td>\n",
              "      <td>0</td>\n",
              "      <td>0</td>\n",
              "      <td>0</td>\n",
              "      <td>0</td>\n",
              "      <td>0</td>\n",
              "      <td>1</td>\n",
              "      <td>0</td>\n",
              "      <td>1</td>\n",
              "      <td>0</td>\n",
              "      <td>0</td>\n",
              "      <td>1</td>\n",
              "      <td>0</td>\n",
              "      <td>1</td>\n",
              "      <td>0</td>\n",
              "    </tr>\n",
              "    <tr>\n",
              "      <th>2</th>\n",
              "      <td>UI_9014</td>\n",
              "      <td>40</td>\n",
              "      <td>0.027465</td>\n",
              "      <td>0</td>\n",
              "      <td>0</td>\n",
              "      <td>0</td>\n",
              "      <td>0</td>\n",
              "      <td>0</td>\n",
              "      <td>1</td>\n",
              "      <td>0</td>\n",
              "      <td>0</td>\n",
              "      <td>0</td>\n",
              "      <td>0</td>\n",
              "      <td>0</td>\n",
              "      <td>0</td>\n",
              "      <td>0</td>\n",
              "      <td>0</td>\n",
              "      <td>0</td>\n",
              "      <td>0</td>\n",
              "      <td>0</td>\n",
              "      <td>0</td>\n",
              "      <td>0</td>\n",
              "      <td>0</td>\n",
              "      <td>0</td>\n",
              "      <td>0</td>\n",
              "      <td>0</td>\n",
              "      <td>0</td>\n",
              "      <td>0</td>\n",
              "      <td>0</td>\n",
              "      <td>0</td>\n",
              "      <td>0</td>\n",
              "      <td>0</td>\n",
              "      <td>0</td>\n",
              "      <td>0</td>\n",
              "      <td>0</td>\n",
              "      <td>0</td>\n",
              "      <td>0</td>\n",
              "      <td>0</td>\n",
              "      <td>0</td>\n",
              "      <td>0</td>\n",
              "      <td>0</td>\n",
              "      <td>0</td>\n",
              "      <td>0</td>\n",
              "      <td>0</td>\n",
              "      <td>0</td>\n",
              "      <td>0</td>\n",
              "      <td>0</td>\n",
              "      <td>0</td>\n",
              "      <td>0</td>\n",
              "      <td>0</td>\n",
              "      <td>1</td>\n",
              "      <td>0</td>\n",
              "      <td>0</td>\n",
              "      <td>1</td>\n",
              "      <td>0</td>\n",
              "      <td>0</td>\n",
              "      <td>0</td>\n",
              "      <td>0</td>\n",
              "      <td>0</td>\n",
              "      <td>1</td>\n",
              "      <td>0</td>\n",
              "      <td>0</td>\n",
              "      <td>0</td>\n",
              "      <td>0</td>\n",
              "      <td>0</td>\n",
              "      <td>1</td>\n",
              "      <td>0</td>\n",
              "      <td>1</td>\n",
              "      <td>0</td>\n",
              "      <td>0</td>\n",
              "      <td>1</td>\n",
              "      <td>0</td>\n",
              "      <td>1</td>\n",
              "      <td>0</td>\n",
              "    </tr>\n",
              "    <tr>\n",
              "      <th>3</th>\n",
              "      <td>UI_14987</td>\n",
              "      <td>40</td>\n",
              "      <td>0.027465</td>\n",
              "      <td>0</td>\n",
              "      <td>0</td>\n",
              "      <td>0</td>\n",
              "      <td>1</td>\n",
              "      <td>0</td>\n",
              "      <td>0</td>\n",
              "      <td>0</td>\n",
              "      <td>0</td>\n",
              "      <td>0</td>\n",
              "      <td>0</td>\n",
              "      <td>0</td>\n",
              "      <td>0</td>\n",
              "      <td>0</td>\n",
              "      <td>0</td>\n",
              "      <td>0</td>\n",
              "      <td>0</td>\n",
              "      <td>0</td>\n",
              "      <td>0</td>\n",
              "      <td>0</td>\n",
              "      <td>0</td>\n",
              "      <td>0</td>\n",
              "      <td>0</td>\n",
              "      <td>0</td>\n",
              "      <td>0</td>\n",
              "      <td>0</td>\n",
              "      <td>0</td>\n",
              "      <td>0</td>\n",
              "      <td>0</td>\n",
              "      <td>0</td>\n",
              "      <td>0</td>\n",
              "      <td>0</td>\n",
              "      <td>0</td>\n",
              "      <td>0</td>\n",
              "      <td>0</td>\n",
              "      <td>0</td>\n",
              "      <td>0</td>\n",
              "      <td>0</td>\n",
              "      <td>0</td>\n",
              "      <td>0</td>\n",
              "      <td>0</td>\n",
              "      <td>0</td>\n",
              "      <td>0</td>\n",
              "      <td>0</td>\n",
              "      <td>0</td>\n",
              "      <td>0</td>\n",
              "      <td>0</td>\n",
              "      <td>0</td>\n",
              "      <td>1</td>\n",
              "      <td>0</td>\n",
              "      <td>0</td>\n",
              "      <td>0</td>\n",
              "      <td>0</td>\n",
              "      <td>0</td>\n",
              "      <td>0</td>\n",
              "      <td>1</td>\n",
              "      <td>0</td>\n",
              "      <td>0</td>\n",
              "      <td>0</td>\n",
              "      <td>0</td>\n",
              "      <td>1</td>\n",
              "      <td>0</td>\n",
              "      <td>0</td>\n",
              "      <td>1</td>\n",
              "      <td>0</td>\n",
              "      <td>0</td>\n",
              "      <td>1</td>\n",
              "      <td>0</td>\n",
              "      <td>1</td>\n",
              "      <td>0</td>\n",
              "      <td>0</td>\n",
              "      <td>1</td>\n",
              "    </tr>\n",
              "    <tr>\n",
              "      <th>4</th>\n",
              "      <td>UI_25532</td>\n",
              "      <td>50</td>\n",
              "      <td>0.027465</td>\n",
              "      <td>1</td>\n",
              "      <td>0</td>\n",
              "      <td>0</td>\n",
              "      <td>1</td>\n",
              "      <td>0</td>\n",
              "      <td>0</td>\n",
              "      <td>0</td>\n",
              "      <td>0</td>\n",
              "      <td>0</td>\n",
              "      <td>0</td>\n",
              "      <td>0</td>\n",
              "      <td>0</td>\n",
              "      <td>0</td>\n",
              "      <td>0</td>\n",
              "      <td>0</td>\n",
              "      <td>0</td>\n",
              "      <td>0</td>\n",
              "      <td>0</td>\n",
              "      <td>0</td>\n",
              "      <td>0</td>\n",
              "      <td>0</td>\n",
              "      <td>0</td>\n",
              "      <td>0</td>\n",
              "      <td>0</td>\n",
              "      <td>0</td>\n",
              "      <td>0</td>\n",
              "      <td>0</td>\n",
              "      <td>0</td>\n",
              "      <td>0</td>\n",
              "      <td>0</td>\n",
              "      <td>0</td>\n",
              "      <td>0</td>\n",
              "      <td>0</td>\n",
              "      <td>0</td>\n",
              "      <td>0</td>\n",
              "      <td>0</td>\n",
              "      <td>0</td>\n",
              "      <td>0</td>\n",
              "      <td>0</td>\n",
              "      <td>0</td>\n",
              "      <td>0</td>\n",
              "      <td>0</td>\n",
              "      <td>0</td>\n",
              "      <td>0</td>\n",
              "      <td>0</td>\n",
              "      <td>0</td>\n",
              "      <td>0</td>\n",
              "      <td>1</td>\n",
              "      <td>0</td>\n",
              "      <td>0</td>\n",
              "      <td>0</td>\n",
              "      <td>0</td>\n",
              "      <td>0</td>\n",
              "      <td>1</td>\n",
              "      <td>0</td>\n",
              "      <td>0</td>\n",
              "      <td>1</td>\n",
              "      <td>0</td>\n",
              "      <td>0</td>\n",
              "      <td>0</td>\n",
              "      <td>0</td>\n",
              "      <td>1</td>\n",
              "      <td>0</td>\n",
              "      <td>0</td>\n",
              "      <td>0</td>\n",
              "      <td>1</td>\n",
              "      <td>0</td>\n",
              "      <td>1</td>\n",
              "      <td>0</td>\n",
              "      <td>0</td>\n",
              "      <td>1</td>\n",
              "    </tr>\n",
              "  </tbody>\n",
              "</table>\n",
              "</div>"
            ],
            "text/plain": [
              "     UserID  ...  money_back_guarantee_Yes\n",
              "0   UI_9185  ...                         0\n",
              "1    UI_449  ...                         0\n",
              "2   UI_9014  ...                         0\n",
              "3  UI_14987  ...                         1\n",
              "4  UI_25532  ...                         1\n",
              "\n",
              "[5 rows x 74 columns]"
            ]
          },
          "metadata": {
            "tags": []
          },
          "execution_count": 825
        }
      ]
    },
    {
      "cell_type": "markdown",
      "metadata": {
        "id": "tP3ZXn03uz7y"
      },
      "source": [
        "## Train Test Split"
      ]
    },
    {
      "cell_type": "code",
      "metadata": {
        "id": "fYhd5sKcswpU"
      },
      "source": [
        "#features = ['relationship_status','industry','genre','targeted_sex','average_runtime(minutes_per_week)','airtime','airlocation','ratings','expensive','money_back_guarantee']\n",
        "#Dropping Airlocation_trinadad&Tobago as it is not present in the test data and it is causing issue\n",
        "X = df_train.drop(['UserID', 'airlocation_Trinadad&Tobago','netgain'],axis=1)\n",
        "y = df_train['netgain']"
      ],
      "execution_count": 826,
      "outputs": []
    },
    {
      "cell_type": "code",
      "metadata": {
        "colab": {
          "base_uri": "https://localhost:8080/"
        },
        "id": "h5KGz8nvTKsa",
        "outputId": "4ba45aeb-0c26-454d-b4a1-451634135cc9"
      },
      "source": [
        "X.head()\r\n",
        "X.shape"
      ],
      "execution_count": 827,
      "outputs": [
        {
          "output_type": "execute_result",
          "data": {
            "text/plain": [
              "(19536, 71)"
            ]
          },
          "metadata": {
            "tags": []
          },
          "execution_count": 827
        }
      ]
    },
    {
      "cell_type": "code",
      "metadata": {
        "colab": {
          "base_uri": "https://localhost:8080/"
        },
        "id": "2aDhUlb6T6fN",
        "outputId": "2be21487-59b8-441a-9da7-694ef2a7aa23"
      },
      "source": [
        "X.columns"
      ],
      "execution_count": 828,
      "outputs": [
        {
          "output_type": "execute_result",
          "data": {
            "text/plain": [
              "Index(['average_runtime(minutes_per_week)', 'ratings',\n",
              "       'relationship_status_Divorced', 'relationship_status_Married-AF-spouse',\n",
              "       'relationship_status_Married-civ-spouse',\n",
              "       'relationship_status_Married-spouse-absent',\n",
              "       'relationship_status_Never-married', 'relationship_status_Separated',\n",
              "       'relationship_status_Widowed', 'airlocation_Cambodia',\n",
              "       'airlocation_Canada', 'airlocation_China', 'airlocation_Columbia',\n",
              "       'airlocation_Cuba', 'airlocation_Dominican-Republic',\n",
              "       'airlocation_Ecuador', 'airlocation_El-Salvador', 'airlocation_England',\n",
              "       'airlocation_France', 'airlocation_Germany', 'airlocation_Greece',\n",
              "       'airlocation_Guatemala', 'airlocation_Haiti',\n",
              "       'airlocation_Holand-Netherlands', 'airlocation_Honduras',\n",
              "       'airlocation_Hong', 'airlocation_Hungary', 'airlocation_India',\n",
              "       'airlocation_International', 'airlocation_Iran', 'airlocation_Ireland',\n",
              "       'airlocation_Italy', 'airlocation_Jamaica', 'airlocation_Japan',\n",
              "       'airlocation_Laos', 'airlocation_Mexico', 'airlocation_Nicaragua',\n",
              "       'airlocation_Outlying-US(Guam-USVI-etc)', 'airlocation_Peru',\n",
              "       'airlocation_Philippines', 'airlocation_Poland', 'airlocation_Portugal',\n",
              "       'airlocation_Puerto-Rico', 'airlocation_Scotland', 'airlocation_South',\n",
              "       'airlocation_Taiwan', 'airlocation_Thailand',\n",
              "       'airlocation_United-States', 'airlocation_Vietnam',\n",
              "       'airlocation_Yugoslavia', 'industry_Auto', 'industry_ClassAction',\n",
              "       'industry_Entertainment', 'industry_Other', 'industry_Pharma',\n",
              "       'industry_Political', 'genre_Comedy', 'genre_Direct', 'genre_Drama',\n",
              "       'genre_Infomercial', 'genre_Other', 'targeted_sex_Female',\n",
              "       'targeted_sex_Male', 'airtime_Daytime', 'airtime_Morning',\n",
              "       'airtime_Primetime', 'expensive_High', 'expensive_Low',\n",
              "       'expensive_Medium', 'money_back_guarantee_No',\n",
              "       'money_back_guarantee_Yes'],\n",
              "      dtype='object')"
            ]
          },
          "metadata": {
            "tags": []
          },
          "execution_count": 828
        }
      ]
    },
    {
      "cell_type": "code",
      "metadata": {
        "id": "vkUquWcXuZ-j"
      },
      "source": [
        "from sklearn.model_selection import train_test_split\n",
        "x_train,x_test,y_train,y_test=train_test_split(X,y,test_size=0.3,random_state=10)"
      ],
      "execution_count": 829,
      "outputs": []
    },
    {
      "cell_type": "markdown",
      "metadata": {
        "id": "XL8sY_s8u2vQ"
      },
      "source": [
        "##Logistics regression\r\n",
        "\r\n",
        "Logistic regression is a statistical model that in its basic form uses a logistic function to model a binary dependent variable, although many more complex extensions exist. In regression analysis, logistic regression (or logit regression) is estimating the parameters of a logistic model (a form of binary regression). Mathematically, a binary logistic model has a dependent variable with two possible values, such as pass/fail which is represented by an indicator variable, where the two values are labeled \"0\" and \"1\". In the logistic model, the log-odds (the logarithm of the odds) for the value labeled \"1\" is a linear combination of one or more independent variables (\"predictors\"); the independent variables can each be a binary variable (two classes, coded by an indicator variable) or a continuous variable (any real value). The corresponding probability of the value labeled \"1\" can vary between 0 (certainly the value \"0\") and 1 (certainly the value \"1\")"
      ]
    },
    {
      "cell_type": "code",
      "metadata": {
        "colab": {
          "base_uri": "https://localhost:8080/"
        },
        "id": "vbhi6mcludEt",
        "outputId": "b5664276-2e61-47d7-b239-76f14b63f959"
      },
      "source": [
        "\n",
        "log =LogisticRegression()\n",
        "log.fit(x_train,y_train)"
      ],
      "execution_count": 830,
      "outputs": [
        {
          "output_type": "execute_result",
          "data": {
            "text/plain": [
              "LogisticRegression(C=1.0, class_weight=None, dual=False, fit_intercept=True,\n",
              "                   intercept_scaling=1, l1_ratio=None, max_iter=100,\n",
              "                   multi_class='auto', n_jobs=None, penalty='l2',\n",
              "                   random_state=None, solver='lbfgs', tol=0.0001, verbose=0,\n",
              "                   warm_start=False)"
            ]
          },
          "metadata": {
            "tags": []
          },
          "execution_count": 830
        }
      ]
    },
    {
      "cell_type": "code",
      "metadata": {
        "colab": {
          "base_uri": "https://localhost:8080/"
        },
        "id": "VmOgieUJuX1t",
        "outputId": "51a26712-81b1-4613-8bad-3b49dc60a452"
      },
      "source": [
        "#model on train using all the independent values in df\n",
        "log_prediction = log.predict(x_train)\n",
        "log_score= accuracy_score(y_train,log_prediction)\n",
        "print('Accuracy score on train set using Logistic Regression :',log_score)"
      ],
      "execution_count": 831,
      "outputs": [
        {
          "output_type": "stream",
          "text": [
            "Accuracy score on train set using Logistic Regression : 0.8015356489945156\n"
          ],
          "name": "stdout"
        }
      ]
    },
    {
      "cell_type": "code",
      "metadata": {
        "id": "Jp35GC-n16vO",
        "colab": {
          "base_uri": "https://localhost:8080/"
        },
        "outputId": "6db3cc3d-912a-4b91-b52b-965c3a668d7c"
      },
      "source": [
        "from sklearn.metrics import confusion_matrix\n",
        "confusion_matrix(y_train, log_prediction)"
      ],
      "execution_count": 832,
      "outputs": [
        {
          "output_type": "execute_result",
          "data": {
            "text/plain": [
              "array([[9717,  697],\n",
              "       [2017, 1244]])"
            ]
          },
          "metadata": {
            "tags": []
          },
          "execution_count": 832
        }
      ]
    },
    {
      "cell_type": "code",
      "metadata": {
        "id": "dWcKWK6L11dx",
        "colab": {
          "base_uri": "https://localhost:8080/"
        },
        "outputId": "524dcbdc-e6d2-40b2-a6bf-a063be6bf826"
      },
      "source": [
        "from sklearn import metrics\n",
        "fpr, tpr, thresholds = metrics.roc_curve(y_train,log_prediction)\n",
        "print(\"AUC on train using Logistic Regression :\",metrics.auc(fpr, tpr))"
      ],
      "execution_count": 833,
      "outputs": [
        {
          "output_type": "stream",
          "text": [
            "AUC on train using Logistic Regression : 0.6572744701760486\n"
          ],
          "name": "stdout"
        }
      ]
    },
    {
      "cell_type": "code",
      "metadata": {
        "colab": {
          "base_uri": "https://localhost:8080/"
        },
        "id": "sUxpvph3v8eg",
        "outputId": "ef636f55-0777-4a94-a5e5-4fd428737b38"
      },
      "source": [
        "from sklearn.metrics import average_precision_score\n",
        "average_precision = average_precision_score(y_train, log_prediction)\n",
        "\n",
        "print('Average precision-recall score: {0:0.2f}'.format(\n",
        "      average_precision))"
      ],
      "execution_count": 834,
      "outputs": [
        {
          "output_type": "stream",
          "text": [
            "Average precision-recall score: 0.39\n"
          ],
          "name": "stdout"
        }
      ]
    },
    {
      "cell_type": "code",
      "metadata": {
        "colab": {
          "base_uri": "https://localhost:8080/"
        },
        "id": "WmZtecC0v_7r",
        "outputId": "3e837534-5318-4f82-e427-69d6e33727ba"
      },
      "source": [
        "from sklearn.metrics import recall_score\n",
        "print('recall_score on train set :',recall_score(y_train, log_prediction))"
      ],
      "execution_count": 835,
      "outputs": [
        {
          "output_type": "stream",
          "text": [
            "recall_score on train set : 0.3814780742103649\n"
          ],
          "name": "stdout"
        }
      ]
    },
    {
      "cell_type": "code",
      "metadata": {
        "colab": {
          "base_uri": "https://localhost:8080/"
        },
        "id": "T-4nvkCgwB10",
        "outputId": "b4387fbd-9ba7-4cb1-ebd2-79a20669c1e6"
      },
      "source": [
        "from sklearn.metrics import f1_score\n",
        "print('F1_score on train set :',f1_score(y_train, log_prediction))"
      ],
      "execution_count": 836,
      "outputs": [
        {
          "output_type": "stream",
          "text": [
            "F1_score on train set : 0.47827758554402144\n"
          ],
          "name": "stdout"
        }
      ]
    },
    {
      "cell_type": "code",
      "metadata": {
        "colab": {
          "base_uri": "https://localhost:8080/"
        },
        "id": "2hTOUVzHwDyh",
        "outputId": "88206217-b122-418a-931b-9f28c545f5dd"
      },
      "source": [
        "#model on train using all the independent values in df\n",
        "log_prediction = log.predict(x_test)\n",
        "log_score= accuracy_score(y_test,log_prediction)\n",
        "print('accuracy score on test using Logisitic Regression :',log_score)"
      ],
      "execution_count": 837,
      "outputs": [
        {
          "output_type": "stream",
          "text": [
            "accuracy score on test using Logisitic Regression : 0.7998635045214127\n"
          ],
          "name": "stdout"
        }
      ]
    },
    {
      "cell_type": "code",
      "metadata": {
        "colab": {
          "base_uri": "https://localhost:8080/"
        },
        "id": "608JTbtEwWX9",
        "outputId": "d893994e-d13c-4990-ce9a-74eb148edf4b"
      },
      "source": [
        "from sklearn.metrics import confusion_matrix\n",
        "confusion_matrix(y_test, log_prediction)"
      ],
      "execution_count": 838,
      "outputs": [
        {
          "output_type": "execute_result",
          "data": {
            "text/plain": [
              "array([[4164,  308],\n",
              "       [ 865,  524]])"
            ]
          },
          "metadata": {
            "tags": []
          },
          "execution_count": 838
        }
      ]
    },
    {
      "cell_type": "code",
      "metadata": {
        "colab": {
          "base_uri": "https://localhost:8080/"
        },
        "id": "fe6-eeYQwYsz",
        "outputId": "9cdb2b0b-f4f5-45ba-e5e6-16fc47c5ee7d"
      },
      "source": [
        "from sklearn import metrics\n",
        "fpr, tpr, thresholds = metrics.roc_curve(y_test,log_prediction)\n",
        "print(\"AUC on test using Logistic Regression :\",metrics.auc(fpr, tpr))"
      ],
      "execution_count": 839,
      "outputs": [
        {
          "output_type": "stream",
          "text": [
            "AUC on test using Logistic Regression : 0.6541884162683801\n"
          ],
          "name": "stdout"
        }
      ]
    },
    {
      "cell_type": "code",
      "metadata": {
        "colab": {
          "base_uri": "https://localhost:8080/"
        },
        "id": "M3X5BmpLwaFZ",
        "outputId": "ff9424b9-4b5e-4e10-cb9d-bcae2b114dd6"
      },
      "source": [
        "from sklearn.metrics import average_precision_score\n",
        "average_precision = average_precision_score(y_test, log_prediction)\n",
        "\n",
        "print('Average precision-recall score: {0:0.2f}'.format(\n",
        "      average_precision))"
      ],
      "execution_count": 840,
      "outputs": [
        {
          "output_type": "stream",
          "text": [
            "Average precision-recall score: 0.39\n"
          ],
          "name": "stdout"
        }
      ]
    },
    {
      "cell_type": "code",
      "metadata": {
        "colab": {
          "base_uri": "https://localhost:8080/"
        },
        "id": "eGop4sSMwcIM",
        "outputId": "6ea8ad73-b597-42b1-85ea-6355547f33fe"
      },
      "source": [
        "from sklearn.metrics import recall_score\n",
        "print('recall_score on train set :',recall_score(y_test, log_prediction))"
      ],
      "execution_count": 841,
      "outputs": [
        {
          "output_type": "stream",
          "text": [
            "recall_score on train set : 0.37724982001439883\n"
          ],
          "name": "stdout"
        }
      ]
    },
    {
      "cell_type": "code",
      "metadata": {
        "colab": {
          "base_uri": "https://localhost:8080/"
        },
        "id": "RC-JU6SXwd6u",
        "outputId": "b48013bf-01e8-45da-d176-d89dad41e196"
      },
      "source": [
        "from sklearn.metrics import f1_score\n",
        "print('F1_score on train set :',f1_score(y_test, log_prediction))"
      ],
      "execution_count": 842,
      "outputs": [
        {
          "output_type": "stream",
          "text": [
            "F1_score on train set : 0.47185952273750564\n"
          ],
          "name": "stdout"
        }
      ]
    },
    {
      "cell_type": "code",
      "metadata": {
        "colab": {
          "base_uri": "https://localhost:8080/"
        },
        "id": "juPT_mE_wlv4",
        "outputId": "83d302b8-64d2-4791-da03-2715c4f6a9d5"
      },
      "source": [
        "from sklearn.model_selection import cross_val_score\n",
        "lr = LogisticRegression()\n",
        "scores = cross_val_score(lr, x_train, y_train, cv=10, scoring = \"accuracy\")\n",
        "print(\"Scores:\", scores)\n",
        "print(\"Mean:\", scores.mean())\n",
        "print(\"Standard Deviation:\", scores.std())"
      ],
      "execution_count": 843,
      "outputs": [
        {
          "output_type": "stream",
          "text": [
            "Scores: [0.80847953 0.79532164 0.81578947 0.81140351 0.81067251 0.80395026\n",
            " 0.7973665  0.79078274 0.79809802 0.80468178]\n",
            "Mean: 0.8036545964398927\n",
            "Standard Deviation: 0.0076584155894509395\n"
          ],
          "name": "stdout"
        }
      ]
    },
    {
      "cell_type": "markdown",
      "metadata": {
        "id": "IuGkYUfowuuU"
      },
      "source": [
        "##XGBoost Algorithm\r\n",
        "\r\n",
        "XGBoost is an optimized distributed gradient boosting library designed to be highly efficient, flexible and portable. It implements machine learning algorithms under the Gradient Boosting framework. XGBoost provides a parallel tree boosting (also known as GBDT, GBM) that solve many data science problems in a fast and accurate way. The same code runs on major distributed environment (Hadoop, SGE, MPI) and can solve problems beyond billions of examples."
      ]
    },
    {
      "cell_type": "code",
      "metadata": {
        "id": "ZZ0BPiS7wpv2"
      },
      "source": [
        "xgboost = xgb.XGBClassifier(max_depth=3,n_estimators=300,learning_rate=0.05)"
      ],
      "execution_count": 844,
      "outputs": []
    },
    {
      "cell_type": "code",
      "metadata": {
        "colab": {
          "base_uri": "https://localhost:8080/"
        },
        "id": "EUDEPaeTxmaH",
        "outputId": "51f78e54-a1b5-46d0-9ffa-999ebfec5c6f"
      },
      "source": [
        "xgboost.fit(x_train,y_train)"
      ],
      "execution_count": 845,
      "outputs": [
        {
          "output_type": "execute_result",
          "data": {
            "text/plain": [
              "XGBClassifier(base_score=0.5, booster='gbtree', colsample_bylevel=1,\n",
              "              colsample_bynode=1, colsample_bytree=1, gamma=0,\n",
              "              learning_rate=0.05, max_delta_step=0, max_depth=3,\n",
              "              min_child_weight=1, missing=None, n_estimators=300, n_jobs=1,\n",
              "              nthread=None, objective='binary:logistic', random_state=0,\n",
              "              reg_alpha=0, reg_lambda=1, scale_pos_weight=1, seed=None,\n",
              "              silent=None, subsample=1, verbosity=1)"
            ]
          },
          "metadata": {
            "tags": []
          },
          "execution_count": 845
        }
      ]
    },
    {
      "cell_type": "code",
      "metadata": {
        "colab": {
          "base_uri": "https://localhost:8080/"
        },
        "id": "nWmhv3UexjzR",
        "outputId": "edcea32b-bc25-463f-f9f9-94eeefefca03"
      },
      "source": [
        "#XGBoost model on the train set\n",
        "XGB_prediction = xgboost.predict(x_train)\n",
        "XGB_score= accuracy_score(y_train,XGB_prediction)\n",
        "print('accuracy score on train using XGBoost ',XGB_score)"
      ],
      "execution_count": 846,
      "outputs": [
        {
          "output_type": "stream",
          "text": [
            "accuracy score on train using XGBoost  0.823254113345521\n"
          ],
          "name": "stdout"
        }
      ]
    },
    {
      "cell_type": "code",
      "metadata": {
        "colab": {
          "base_uri": "https://localhost:8080/"
        },
        "id": "ziNR6RMCxQdG",
        "outputId": "5256fb7a-9b8d-4a0d-9e0b-c5fe8e4aa468"
      },
      "source": [
        "confusion_matrix(y_train, XGB_prediction)"
      ],
      "execution_count": 847,
      "outputs": [
        {
          "output_type": "execute_result",
          "data": {
            "text/plain": [
              "array([[9758,  656],\n",
              "       [1761, 1500]])"
            ]
          },
          "metadata": {
            "tags": []
          },
          "execution_count": 847
        }
      ]
    },
    {
      "cell_type": "code",
      "metadata": {
        "id": "jbXA_FY-1qea",
        "colab": {
          "base_uri": "https://localhost:8080/"
        },
        "outputId": "5a750e07-8151-4181-a5d4-2637a744ef1a"
      },
      "source": [
        "fpr, tpr, thresholds = metrics.roc_curve(y_train,XGB_prediction)\n",
        "print(\"AUC on train using XGBoost :\",metrics.auc(fpr, tpr))"
      ],
      "execution_count": 848,
      "outputs": [
        {
          "output_type": "stream",
          "text": [
            "AUC on train using XGBoost : 0.6984947373758593\n"
          ],
          "name": "stdout"
        }
      ]
    },
    {
      "cell_type": "code",
      "metadata": {
        "colab": {
          "base_uri": "https://localhost:8080/"
        },
        "id": "1sTKnjdszOMD",
        "outputId": "f70bdcf5-4f55-4fd5-83b9-ae2e84f9f227"
      },
      "source": [
        "print('recall_score on train set :',recall_score(y_train, XGB_prediction))"
      ],
      "execution_count": 849,
      "outputs": [
        {
          "output_type": "stream",
          "text": [
            "recall_score on train set : 0.45998160073597055\n"
          ],
          "name": "stdout"
        }
      ]
    },
    {
      "cell_type": "code",
      "metadata": {
        "colab": {
          "base_uri": "https://localhost:8080/"
        },
        "id": "THgA7va4zOP7",
        "outputId": "31170d49-491e-4569-9a2d-562ec08d358b"
      },
      "source": [
        "print('F1_score on train set :',f1_score(y_train, XGB_prediction))"
      ],
      "execution_count": 850,
      "outputs": [
        {
          "output_type": "stream",
          "text": [
            "F1_score on train set : 0.5538120731031937\n"
          ],
          "name": "stdout"
        }
      ]
    },
    {
      "cell_type": "code",
      "metadata": {
        "colab": {
          "base_uri": "https://localhost:8080/"
        },
        "id": "cKK3g_p_zOSR",
        "outputId": "bae3fbe1-189a-419c-facd-bf7b44dae5ef"
      },
      "source": [
        "#XGBoost model on the test\n",
        "XGB_prediction = xgboost.predict(x_test)\n",
        "XGB_score= accuracy_score(y_test,XGB_prediction)\n",
        "print('accuracy score on test using XGBoost :',XGB_score)"
      ],
      "execution_count": 851,
      "outputs": [
        {
          "output_type": "stream",
          "text": [
            "accuracy score on test using XGBoost : 0.8206790650059717\n"
          ],
          "name": "stdout"
        }
      ]
    },
    {
      "cell_type": "code",
      "metadata": {
        "colab": {
          "base_uri": "https://localhost:8080/"
        },
        "id": "jjPS90gmzOad",
        "outputId": "8963b794-66bf-41f3-fb46-ac20ddffca9b"
      },
      "source": [
        "confusion_matrix(y_test, XGB_prediction)"
      ],
      "execution_count": 852,
      "outputs": [
        {
          "output_type": "execute_result",
          "data": {
            "text/plain": [
              "array([[4176,  296],\n",
              "       [ 755,  634]])"
            ]
          },
          "metadata": {
            "tags": []
          },
          "execution_count": 852
        }
      ]
    },
    {
      "cell_type": "code",
      "metadata": {
        "colab": {
          "base_uri": "https://localhost:8080/"
        },
        "id": "uzl4-4C1zUvN",
        "outputId": "cab7776f-e717-46d1-b571-42d58ca9f2ca"
      },
      "source": [
        "fpr, tpr, thresholds = metrics.roc_curve(y_test,XGB_prediction)\n",
        "print(\"AUC on test using XGBoost :\",metrics.auc(fpr, tpr))"
      ],
      "execution_count": 853,
      "outputs": [
        {
          "output_type": "stream",
          "text": [
            "AUC on test using XGBoost : 0.6951269300960395\n"
          ],
          "name": "stdout"
        }
      ]
    },
    {
      "cell_type": "code",
      "metadata": {
        "colab": {
          "base_uri": "https://localhost:8080/"
        },
        "id": "2-SGN75BzUyk",
        "outputId": "650b7f74-c2dc-445a-aa99-e0f973fc1313"
      },
      "source": [
        "average_precision = average_precision_score(y_test, XGB_prediction)\n",
        "\n",
        "print('Average precision-recall score: {0:0.2f}'.format(\n",
        "      average_precision))"
      ],
      "execution_count": 854,
      "outputs": [
        {
          "output_type": "stream",
          "text": [
            "Average precision-recall score: 0.44\n"
          ],
          "name": "stdout"
        }
      ]
    },
    {
      "cell_type": "code",
      "metadata": {
        "colab": {
          "base_uri": "https://localhost:8080/"
        },
        "id": "oLx60GAlzU2Q",
        "outputId": "0d3e2e84-a1a8-402f-c9c4-4d71033c8adc"
      },
      "source": [
        "print('recall_score on test set :',recall_score(y_test, XGB_prediction))"
      ],
      "execution_count": 855,
      "outputs": [
        {
          "output_type": "stream",
          "text": [
            "recall_score on test set : 0.4564434845212383\n"
          ],
          "name": "stdout"
        }
      ]
    },
    {
      "cell_type": "code",
      "metadata": {
        "colab": {
          "base_uri": "https://localhost:8080/"
        },
        "id": "DSjHatrgzU6A",
        "outputId": "012d5be6-b89a-41db-8ed1-c4830d71c2cb"
      },
      "source": [
        "print('F1_score on test set :',f1_score(y_test, XGB_prediction))"
      ],
      "execution_count": 856,
      "outputs": [
        {
          "output_type": "stream",
          "text": [
            "F1_score on test set : 0.5467874083656749\n"
          ],
          "name": "stdout"
        }
      ]
    },
    {
      "cell_type": "code",
      "metadata": {
        "colab": {
          "base_uri": "https://localhost:8080/"
        },
        "id": "Sxs7xiRozU9M",
        "outputId": "9fa43531-ed24-4f3e-c20b-3b57b824f3b3"
      },
      "source": [
        "xg = xgb.XGBClassifier()\n",
        "scores = cross_val_score(xg, x_test, y_test, cv=10, scoring = \"accuracy\")\n",
        "print(\"Scores:\", scores)\n",
        "print(\"Mean:\", scores.mean())\n",
        "print(\"Standard Deviation:\", scores.std())"
      ],
      "execution_count": 857,
      "outputs": [
        {
          "output_type": "stream",
          "text": [
            "Scores: [0.80408859 0.80887372 0.80887372 0.81740614 0.82764505 0.8225256\n",
            " 0.80716724 0.82764505 0.81569966 0.81740614]\n",
            "Mean: 0.8157330906849778\n",
            "Standard Deviation: 0.007991228770290812\n"
          ],
          "name": "stdout"
        }
      ]
    },
    {
      "cell_type": "markdown",
      "metadata": {
        "id": "guo6NzmtzhOk"
      },
      "source": [
        "##DecisionTreeClassifer"
      ]
    },
    {
      "cell_type": "code",
      "metadata": {
        "id": "lhxHR57xzVAR"
      },
      "source": [
        "dec=DecisionTreeClassifier()"
      ],
      "execution_count": 858,
      "outputs": []
    },
    {
      "cell_type": "code",
      "metadata": {
        "colab": {
          "base_uri": "https://localhost:8080/"
        },
        "id": "_o3JQd0WAURH",
        "outputId": "b5bd5aef-cdbc-4612-e319-2fe403dc0e64"
      },
      "source": [
        "dec.fit(x_train,y_train)"
      ],
      "execution_count": 859,
      "outputs": [
        {
          "output_type": "execute_result",
          "data": {
            "text/plain": [
              "DecisionTreeClassifier(ccp_alpha=0.0, class_weight=None, criterion='gini',\n",
              "                       max_depth=None, max_features=None, max_leaf_nodes=None,\n",
              "                       min_impurity_decrease=0.0, min_impurity_split=None,\n",
              "                       min_samples_leaf=1, min_samples_split=2,\n",
              "                       min_weight_fraction_leaf=0.0, presort='deprecated',\n",
              "                       random_state=None, splitter='best')"
            ]
          },
          "metadata": {
            "tags": []
          },
          "execution_count": 859
        }
      ]
    },
    {
      "cell_type": "code",
      "metadata": {
        "colab": {
          "base_uri": "https://localhost:8080/"
        },
        "id": "LFKOP2-qAUgM",
        "outputId": "9f3bcde5-6a41-419c-db9c-0e60937727ac"
      },
      "source": [
        "#model on train using all the independent values in df\r\n",
        "dec_prediction = dec.predict(x_train)\r\n",
        "dec_score= accuracy_score(y_train,dec_prediction)\r\n",
        "print('Accuracy score on train using Decision Tree :',dec_score)"
      ],
      "execution_count": 860,
      "outputs": [
        {
          "output_type": "stream",
          "text": [
            "Accuracy score on train using Decision Tree : 0.8683729433272395\n"
          ],
          "name": "stdout"
        }
      ]
    },
    {
      "cell_type": "code",
      "metadata": {
        "colab": {
          "base_uri": "https://localhost:8080/"
        },
        "id": "kj07YKXZAWu7",
        "outputId": "f3aa74fa-b82f-4e55-a2a9-a0b5daebe072"
      },
      "source": [
        "confusion_matrix(y_train, dec_prediction)"
      ],
      "execution_count": 861,
      "outputs": [
        {
          "output_type": "execute_result",
          "data": {
            "text/plain": [
              "array([[9980,  434],\n",
              "       [1366, 1895]])"
            ]
          },
          "metadata": {
            "tags": []
          },
          "execution_count": 861
        }
      ]
    },
    {
      "cell_type": "code",
      "metadata": {
        "colab": {
          "base_uri": "https://localhost:8080/"
        },
        "id": "Wp2Pn6nMAZoL",
        "outputId": "0ebc2cd8-f207-410e-9f42-8badfe7f967c"
      },
      "source": [
        "    print(confusion_matrix(y_train, dec_prediction))\r\n",
        "    fpr, tpr, thresholds = metrics.roc_curve(y_train,dec_prediction)\r\n",
        "    print(\"AUC on train using DecisionTree :\",metrics.auc(fpr, tpr))\r\n",
        "    average_precision = average_precision_score(y_train, dec_prediction)\r\n",
        "    print('Average precision-recall score: {0:0.2f}'.format(average_precision))\r\n",
        "    print('recall_score on train set :',recall_score(y_train, dec_prediction))\r\n",
        "    print('F1_sccore on train set :',f1_score(y_train, dec_prediction))"
      ],
      "execution_count": 862,
      "outputs": [
        {
          "output_type": "stream",
          "text": [
            "[[9980  434]\n",
            " [1366 1895]]\n",
            "AUC on train using DecisionTree : 0.7697177101072926\n",
            "Average precision-recall score: 0.57\n",
            "recall_score on train set : 0.5811100889297761\n",
            "F1_sccore on train set : 0.6779964221824687\n"
          ],
          "name": "stdout"
        }
      ]
    },
    {
      "cell_type": "code",
      "metadata": {
        "colab": {
          "base_uri": "https://localhost:8080/"
        },
        "id": "KZs3ixn4AbzM",
        "outputId": "e3269967-5545-422b-9a4c-fbd35f3fb16f"
      },
      "source": [
        "#model on test using all the independent values in df\r\n",
        "dec_prediction = dec.predict(x_test)\r\n",
        "dec_score= accuracy_score(y_test,dec_prediction)\r\n",
        "print('Accuracy Score on tree using Decision Tree  :',dec_score)"
      ],
      "execution_count": 863,
      "outputs": [
        {
          "output_type": "stream",
          "text": [
            "Accuracy Score on tree using Decision Tree  : 0.7954274014673264\n"
          ],
          "name": "stdout"
        }
      ]
    },
    {
      "cell_type": "code",
      "metadata": {
        "colab": {
          "base_uri": "https://localhost:8080/"
        },
        "id": "QCbsskM1Adzn",
        "outputId": "42fefbc2-1d3d-47a1-862e-0e11490af475"
      },
      "source": [
        "    print(confusion_matrix(y_test, dec_prediction))\r\n",
        "    fpr, tpr, thresholds = metrics.roc_curve(y_test,dec_prediction)\r\n",
        "    print(\"AUC on train using DecisionTree :\",metrics.auc(fpr, tpr))\r\n",
        "    average_precision = average_precision_score(y_test, dec_prediction)\r\n",
        "    print('Average precision-recall score: {0:0.2f}'.format(average_precision))\r\n",
        "    print('recall_score on test set :',recall_score(y_test, dec_prediction))\r\n",
        "    print('F1_sccore on test set :',f1_score(y_test, dec_prediction))"
      ],
      "execution_count": 864,
      "outputs": [
        {
          "output_type": "stream",
          "text": [
            "[[4068  404]\n",
            " [ 795  594]]\n",
            "AUC on train using DecisionTree : 0.6686529478357296\n",
            "Average precision-recall score: 0.39\n",
            "recall_score on test set : 0.42764578833693306\n",
            "F1_sccore on test set : 0.49769585253456217\n"
          ],
          "name": "stdout"
        }
      ]
    },
    {
      "cell_type": "code",
      "metadata": {
        "colab": {
          "base_uri": "https://localhost:8080/"
        },
        "id": "lA0PC0IPAk7h",
        "outputId": "6dfa2787-2fa4-4df8-ef0e-ba830e99a1c3"
      },
      "source": [
        "lr = DecisionTreeClassifier()\r\n",
        "scores = cross_val_score(lr, x_train, y_train, cv=10, scoring = \"accuracy\")\r\n",
        "print(\"Scores:\", scores)\r\n",
        "print(\"Mean:\", scores.mean())\r\n",
        "print(\"Standard Deviation:\", scores.std())"
      ],
      "execution_count": 865,
      "outputs": [
        {
          "output_type": "stream",
          "text": [
            "Scores: [0.80921053 0.79239766 0.79897661 0.79824561 0.79020468 0.78639356\n",
            " 0.78346745 0.78200439 0.79005121 0.79224579]\n",
            "Mean: 0.7923197487134075\n",
            "Standard Deviation: 0.007708754378635227\n"
          ],
          "name": "stdout"
        }
      ]
    },
    {
      "cell_type": "markdown",
      "metadata": {
        "id": "RHj61j0iCTV_"
      },
      "source": [
        "##ExtraTree Classifier\r\n",
        "\r\n",
        "Each Decision Tree in the Extra Trees Forest is constructed from the original training sample. Then, at each test node, Each tree is provided with a random sample of k features from the feature-set from which each decision tree must select the best feature to split the data based on some mathematical criteria (typically the Gini Index). This random sample of features leads to the creation of multiple de-correlated decision trees."
      ]
    },
    {
      "cell_type": "code",
      "metadata": {
        "colab": {
          "base_uri": "https://localhost:8080/"
        },
        "id": "QwiZlHpcCpqp",
        "outputId": "b39451dc-121a-47ed-f63f-21ae90f9bc8c"
      },
      "source": [
        "etc=ExtraTreeClassifier()\r\n",
        "etc.fit(x_train,y_train)"
      ],
      "execution_count": 866,
      "outputs": [
        {
          "output_type": "execute_result",
          "data": {
            "text/plain": [
              "ExtraTreeClassifier(ccp_alpha=0.0, class_weight=None, criterion='gini',\n",
              "                    max_depth=None, max_features='auto', max_leaf_nodes=None,\n",
              "                    min_impurity_decrease=0.0, min_impurity_split=None,\n",
              "                    min_samples_leaf=1, min_samples_split=2,\n",
              "                    min_weight_fraction_leaf=0.0, random_state=None,\n",
              "                    splitter='random')"
            ]
          },
          "metadata": {
            "tags": []
          },
          "execution_count": 866
        }
      ]
    },
    {
      "cell_type": "code",
      "metadata": {
        "colab": {
          "base_uri": "https://localhost:8080/"
        },
        "id": "G-P44s_gCsQy",
        "outputId": "f06993ec-dbf8-4ca7-ee59-4867d7493d75"
      },
      "source": [
        "#model on train using all the independent values in df\r\n",
        "etc_prediction = etc.predict(x_train)\r\n",
        "etc_score= accuracy_score(y_train,etc_prediction)\r\n",
        "etc_score"
      ],
      "execution_count": 867,
      "outputs": [
        {
          "output_type": "execute_result",
          "data": {
            "text/plain": [
              "0.8683729433272395"
            ]
          },
          "metadata": {
            "tags": []
          },
          "execution_count": 867
        }
      ]
    },
    {
      "cell_type": "code",
      "metadata": {
        "colab": {
          "base_uri": "https://localhost:8080/"
        },
        "id": "i0OYF2hJCsTp",
        "outputId": "9f9c16f9-3f2e-4714-84b8-6396e29539c5"
      },
      "source": [
        "    print(confusion_matrix(y_train, etc_prediction))\r\n",
        "    fpr, tpr, thresholds = metrics.roc_curve(y_train,etc_prediction)\r\n",
        "    print(\"AUC on train using ExtraTree :\",metrics.auc(fpr, tpr))\r\n",
        "    average_precision = average_precision_score(y_train, etc_prediction)\r\n",
        "    print('Average precision-recall score: {0:0.2f}'.format(average_precision))\r\n",
        "    print('recall_score on train set :',recall_score(y_train, etc_prediction))\r\n",
        "    print('F1_score on train set :',f1_score(y_train, etc_prediction))"
      ],
      "execution_count": 868,
      "outputs": [
        {
          "output_type": "stream",
          "text": [
            "[[9980  434]\n",
            " [1366 1895]]\n",
            "AUC on train using ExtraTree : 0.7697177101072926\n",
            "Average precision-recall score: 0.57\n",
            "recall_score on train set : 0.5811100889297761\n",
            "F1_score on train set : 0.6779964221824687\n"
          ],
          "name": "stdout"
        }
      ]
    },
    {
      "cell_type": "code",
      "metadata": {
        "colab": {
          "base_uri": "https://localhost:8080/"
        },
        "id": "_TXoVqM9CsWv",
        "outputId": "6fd6f60c-ac34-4ac4-d4af-a8346c9bd48c"
      },
      "source": [
        "#model on test using all the independent values in df\r\n",
        "etc_prediction = etc.predict(x_test)\r\n",
        "etc_score= accuracy_score(y_test,etc_prediction)\r\n",
        "etc_score"
      ],
      "execution_count": 869,
      "outputs": [
        {
          "output_type": "execute_result",
          "data": {
            "text/plain": [
              "0.7850196212250469"
            ]
          },
          "metadata": {
            "tags": []
          },
          "execution_count": 869
        }
      ]
    },
    {
      "cell_type": "code",
      "metadata": {
        "colab": {
          "base_uri": "https://localhost:8080/"
        },
        "id": "UYw9Prj6CsaD",
        "outputId": "81069c71-85e4-47d6-fccd-7ed247014ff6"
      },
      "source": [
        "    print(confusion_matrix(y_test, etc_prediction))\r\n",
        "    fpr, tpr, thresholds = metrics.roc_curve(y_test,etc_prediction)\r\n",
        "    print(\"AUC on train using ExtraTree :\",metrics.auc(fpr, tpr))\r\n",
        "    average_precision = average_precision_score(y_test, etc_prediction)\r\n",
        "    print('Average precision-recall score: {0:0.2f}'.format(average_precision))\r\n",
        "    print('recall_score on test set :',recall_score(y_test, dec_prediction))\r\n",
        "    print('F1_score on test set :',f1_score(y_test, etc_prediction))\r\n",
        "   "
      ],
      "execution_count": 870,
      "outputs": [
        {
          "output_type": "stream",
          "text": [
            "[[4057  415]\n",
            " [ 845  544]]\n",
            "AUC on train using ExtraTree : 0.6494245129441523\n",
            "Average precision-recall score: 0.37\n",
            "recall_score on test set : 0.42764578833693306\n",
            "F1_score on test set : 0.4633730834752981\n"
          ],
          "name": "stdout"
        }
      ]
    },
    {
      "cell_type": "code",
      "metadata": {
        "colab": {
          "base_uri": "https://localhost:8080/"
        },
        "id": "WpgSip-kCsds",
        "outputId": "557de6d3-6dc1-4e3f-cf9e-d7956bd2e788"
      },
      "source": [
        "lr = ExtraTreeClassifier()\r\n",
        "scores = cross_val_score(lr, x_train, y_train, cv=10, scoring = \"accuracy\")\r\n",
        "print(\"Scores:\", scores)\r\n",
        "print(\"Mean:\", scores.mean())\r\n",
        "print(\"Standard Deviation:\", scores.std())"
      ],
      "execution_count": 871,
      "outputs": [
        {
          "output_type": "stream",
          "text": [
            "Scores: [0.79312865 0.78362573 0.79605263 0.79532164 0.7755848  0.7849305\n",
            " 0.78200439 0.77542063 0.78639356 0.78785662]\n",
            "Mean: 0.7860319156217782\n",
            "Standard Deviation: 0.006967806313624936\n"
          ],
          "name": "stdout"
        }
      ]
    },
    {
      "cell_type": "markdown",
      "metadata": {
        "id": "Zf3j8xLPAx3_"
      },
      "source": [
        "##RandomForestClassifier"
      ]
    },
    {
      "cell_type": "code",
      "metadata": {
        "colab": {
          "base_uri": "https://localhost:8080/"
        },
        "id": "881mIdnPA-vW",
        "outputId": "f571f96b-cff4-4fbb-8132-b75f547c75af"
      },
      "source": [
        "rfc2=RandomForestClassifier(n_estimators=300)\r\n",
        "rfc2.fit(x_train,y_train)"
      ],
      "execution_count": 872,
      "outputs": [
        {
          "output_type": "execute_result",
          "data": {
            "text/plain": [
              "RandomForestClassifier(bootstrap=True, ccp_alpha=0.0, class_weight=None,\n",
              "                       criterion='gini', max_depth=None, max_features='auto',\n",
              "                       max_leaf_nodes=None, max_samples=None,\n",
              "                       min_impurity_decrease=0.0, min_impurity_split=None,\n",
              "                       min_samples_leaf=1, min_samples_split=2,\n",
              "                       min_weight_fraction_leaf=0.0, n_estimators=300,\n",
              "                       n_jobs=None, oob_score=False, random_state=None,\n",
              "                       verbose=0, warm_start=False)"
            ]
          },
          "metadata": {
            "tags": []
          },
          "execution_count": 872
        }
      ]
    },
    {
      "cell_type": "code",
      "metadata": {
        "colab": {
          "base_uri": "https://localhost:8080/"
        },
        "id": "5szErje3A-yQ",
        "outputId": "47ca521b-e3ff-4c06-c0c5-08e48c2c002a"
      },
      "source": [
        "#model on train using all the independent values in df\r\n",
        "rfc_prediction = rfc2.predict(x_train)\r\n",
        "rfc_score= accuracy_score(y_train,rfc_prediction)\r\n",
        "print('accuracy Score on train using RandomForest :',rfc_score)"
      ],
      "execution_count": 873,
      "outputs": [
        {
          "output_type": "stream",
          "text": [
            "accuracy Score on train using RandomForest : 0.8683729433272395\n"
          ],
          "name": "stdout"
        }
      ]
    },
    {
      "cell_type": "code",
      "metadata": {
        "colab": {
          "base_uri": "https://localhost:8080/"
        },
        "id": "BXa2qURoA-1R",
        "outputId": "c15a8572-f7d7-4057-df3a-0bc285fc7b5a"
      },
      "source": [
        "confusion_matrix(y_train, rfc_prediction)"
      ],
      "execution_count": 874,
      "outputs": [
        {
          "output_type": "execute_result",
          "data": {
            "text/plain": [
              "array([[9868,  546],\n",
              "       [1254, 2007]])"
            ]
          },
          "metadata": {
            "tags": []
          },
          "execution_count": 874
        }
      ]
    },
    {
      "cell_type": "code",
      "metadata": {
        "colab": {
          "base_uri": "https://localhost:8080/"
        },
        "id": "l7gB1EXGA-4B",
        "outputId": "bfd37815-8f65-4795-f8f2-d30f117dcaa8"
      },
      "source": [
        "fpr, tpr, thresholds = metrics.roc_curve(y_train,rfc_prediction)\r\n",
        "print(\"AUC on train using RandomForest :\",metrics.auc(fpr, tpr))"
      ],
      "execution_count": 875,
      "outputs": [
        {
          "output_type": "stream",
          "text": [
            "AUC on train using RandomForest : 0.7815129799263569\n"
          ],
          "name": "stdout"
        }
      ]
    },
    {
      "cell_type": "code",
      "metadata": {
        "colab": {
          "base_uri": "https://localhost:8080/"
        },
        "id": "9UdVvuf7A-69",
        "outputId": "91ff1877-d9d3-4b53-a72d-e426f60c7176"
      },
      "source": [
        "average_precision = average_precision_score(y_train, rfc_prediction)\r\n",
        "\r\n",
        "print('Average precision-recall score: {0:0.2f}'.format(\r\n",
        "      average_precision))"
      ],
      "execution_count": 876,
      "outputs": [
        {
          "output_type": "stream",
          "text": [
            "Average precision-recall score: 0.58\n"
          ],
          "name": "stdout"
        }
      ]
    },
    {
      "cell_type": "code",
      "metadata": {
        "colab": {
          "base_uri": "https://localhost:8080/"
        },
        "id": "VU6XjvTCA-9v",
        "outputId": "07bc7724-fd07-4516-9e9e-9f99eabea960"
      },
      "source": [
        "print('recall_score on train set :',recall_score(y_train, rfc_prediction))"
      ],
      "execution_count": 877,
      "outputs": [
        {
          "output_type": "stream",
          "text": [
            "recall_score on train set : 0.6154553817847286\n"
          ],
          "name": "stdout"
        }
      ]
    },
    {
      "cell_type": "code",
      "metadata": {
        "colab": {
          "base_uri": "https://localhost:8080/"
        },
        "id": "-QFiURIiBO4h",
        "outputId": "669ddc76-a954-44d4-b619-4e0d0ceba644"
      },
      "source": [
        "print('F1_score on train set :',f1_score(y_train, rfc_prediction))"
      ],
      "execution_count": 878,
      "outputs": [
        {
          "output_type": "stream",
          "text": [
            "F1_score on train set : 0.6904024767801857\n"
          ],
          "name": "stdout"
        }
      ]
    },
    {
      "cell_type": "code",
      "metadata": {
        "colab": {
          "base_uri": "https://localhost:8080/"
        },
        "id": "70mCtucFBO7o",
        "outputId": "2f5553d6-57a7-421a-9df1-09969c994199"
      },
      "source": [
        "#model on test using all the indpendent values in df\r\n",
        "rfc_prediction = rfc2.predict(x_test)\r\n",
        "rfc_score= accuracy_score(y_test,rfc_prediction)\r\n",
        "print('accuracy score on test using RandomForest ',rfc_score)"
      ],
      "execution_count": 879,
      "outputs": [
        {
          "output_type": "stream",
          "text": [
            "accuracy score on test using RandomForest  0.7971335949496673\n"
          ],
          "name": "stdout"
        }
      ]
    },
    {
      "cell_type": "code",
      "metadata": {
        "colab": {
          "base_uri": "https://localhost:8080/"
        },
        "id": "OjeeTIgZBO-s",
        "outputId": "25cb5fc0-29d7-4558-fda1-9472352de88a"
      },
      "source": [
        "confusion_matrix(y_test, rfc_prediction)"
      ],
      "execution_count": 880,
      "outputs": [
        {
          "output_type": "execute_result",
          "data": {
            "text/plain": [
              "array([[4061,  411],\n",
              "       [ 778,  611]])"
            ]
          },
          "metadata": {
            "tags": []
          },
          "execution_count": 880
        }
      ]
    },
    {
      "cell_type": "code",
      "metadata": {
        "colab": {
          "base_uri": "https://localhost:8080/"
        },
        "id": "WxyY6Lg9BPBo",
        "outputId": "825f98c4-55c2-4df4-cca6-f9549bb5bab1"
      },
      "source": [
        "fpr, tpr, thresholds = metrics.roc_curve(y_test,rfc_prediction)\r\n",
        "print(\"AUC on test using RandomForest :\",metrics.auc(fpr, tpr))"
      ],
      "execution_count": 881,
      "outputs": [
        {
          "output_type": "stream",
          "text": [
            "AUC on test using RandomForest : 0.6739898106899211\n"
          ],
          "name": "stdout"
        }
      ]
    },
    {
      "cell_type": "code",
      "metadata": {
        "colab": {
          "base_uri": "https://localhost:8080/"
        },
        "id": "WHvBxyOrBWU-",
        "outputId": "75caa439-c611-4c6d-f242-554d4abbc9b0"
      },
      "source": [
        "average_precision = average_precision_score(y_test, rfc_prediction)\r\n",
        "\r\n",
        "print('Average precision-recall score: {0:0.2f}'.format(\r\n",
        "      average_precision))"
      ],
      "execution_count": 882,
      "outputs": [
        {
          "output_type": "stream",
          "text": [
            "Average precision-recall score: 0.40\n"
          ],
          "name": "stdout"
        }
      ]
    },
    {
      "cell_type": "code",
      "metadata": {
        "colab": {
          "base_uri": "https://localhost:8080/"
        },
        "id": "xlTbGbxZBWYO",
        "outputId": "90b6c8f0-6a3c-4efb-9442-25ef5c7a1ea5"
      },
      "source": [
        "print('recall_score on test set :',recall_score(y_test, rfc_prediction))"
      ],
      "execution_count": 883,
      "outputs": [
        {
          "output_type": "stream",
          "text": [
            "recall_score on test set : 0.4398848092152628\n"
          ],
          "name": "stdout"
        }
      ]
    },
    {
      "cell_type": "code",
      "metadata": {
        "colab": {
          "base_uri": "https://localhost:8080/"
        },
        "id": "cB3DRenEBWav",
        "outputId": "eec629df-3316-4d83-9c51-52208ea620f9"
      },
      "source": [
        "print('F1_score on test set :',f1_score(y_test, rfc_prediction))"
      ],
      "execution_count": 884,
      "outputs": [
        {
          "output_type": "stream",
          "text": [
            "F1_score on test set : 0.5068436333471589\n"
          ],
          "name": "stdout"
        }
      ]
    },
    {
      "cell_type": "code",
      "metadata": {
        "colab": {
          "base_uri": "https://localhost:8080/"
        },
        "id": "E4CzHMDLBWeI",
        "outputId": "080df6ff-2d0c-49bf-dc4b-6b13150a44d7"
      },
      "source": [
        "lr = RandomForestClassifier(n_estimators=100)\r\n",
        "scores = cross_val_score(lr, x_train, y_train, cv=10, scoring = \"accuracy\")\r\n",
        "print(\"Scores:\", scores)\r\n",
        "print(\"Mean:\", scores.mean())\r\n",
        "print(\"Standard Deviation:\", scores.std())"
      ],
      "execution_count": 885,
      "outputs": [
        {
          "output_type": "stream",
          "text": [
            "Scores: [0.81140351 0.79751462 0.80555556 0.80409357 0.79385965 0.79517191\n",
            " 0.79224579 0.78566203 0.79809802 0.80395026]\n",
            "Mean: 0.7987554918141488\n",
            "Standard Deviation: 0.007171415522331633\n"
          ],
          "name": "stdout"
        }
      ]
    },
    {
      "cell_type": "code",
      "metadata": {
        "id": "O0hVKTjzBPFC"
      },
      "source": [
        ""
      ],
      "execution_count": 885,
      "outputs": []
    },
    {
      "cell_type": "code",
      "metadata": {
        "id": "9ZOxXpQvA_BK"
      },
      "source": [
        ""
      ],
      "execution_count": 885,
      "outputs": []
    },
    {
      "cell_type": "markdown",
      "metadata": {
        "id": "0kGBaOn4C25u"
      },
      "source": [
        "##ExtraTrees Classifier\r\n",
        "\r\n",
        "Extremely Randomized Trees Classifier(Extra Trees Classifier) is a type of ensemble learning technique which aggregates the results of multiple de-correlated decision trees collected in a “forest” to output it’s classification result. In concept, it is very similar to a Random Forest Classifier and only differs from it in the manner of construction of the decision trees in the forest."
      ]
    },
    {
      "cell_type": "code",
      "metadata": {
        "colab": {
          "base_uri": "https://localhost:8080/"
        },
        "id": "4Wq-SirwDBkF",
        "outputId": "7b845239-959b-482c-ff51-6760d2f092ea"
      },
      "source": [
        "ettc=ExtraTreesClassifier()\r\n",
        "ettc.fit(x_train,y_train)\r\n",
        "#model on train using all the independent values in df\r\n",
        "ettc_prediction = ettc.predict(x_train)\r\n",
        "ettc_score= accuracy_score(y_train,ettc_prediction)\r\n",
        "print('training accuracy using Extratressclassifier',ettc_score)"
      ],
      "execution_count": 886,
      "outputs": [
        {
          "output_type": "stream",
          "text": [
            "training accuracy using Extratressclassifier 0.8683729433272395\n"
          ],
          "name": "stdout"
        }
      ]
    },
    {
      "cell_type": "code",
      "metadata": {
        "colab": {
          "base_uri": "https://localhost:8080/"
        },
        "id": "faFd-7mfDBna",
        "outputId": "14ebc078-47b3-4545-efab-ce8fea3734f7"
      },
      "source": [
        "print(confusion_matrix(y_train, ettc_prediction))\r\n",
        "fpr, tpr, thresholds = metrics.roc_curve(y_train,ettc_prediction)\r\n",
        "print(\"AUC on train using ExtraTree :\",metrics.auc(fpr, tpr))\r\n",
        "average_precision = average_precision_score(y_train, ettc_prediction)\r\n",
        "print('Average precision-recall score: {0:0.2f}'.format(average_precision))\r\n",
        "print('recall_score on train set :',recall_score(y_train, ettc_prediction))\r\n",
        "print('F1_sccore on train set :',f1_score(y_train, ettc_prediction))"
      ],
      "execution_count": 887,
      "outputs": [
        {
          "output_type": "stream",
          "text": [
            "[[9980  434]\n",
            " [1366 1895]]\n",
            "AUC on train using ExtraTree : 0.7697177101072926\n",
            "Average precision-recall score: 0.57\n",
            "recall_score on train set : 0.5811100889297761\n",
            "F1_sccore on train set : 0.6779964221824687\n"
          ],
          "name": "stdout"
        }
      ]
    },
    {
      "cell_type": "code",
      "metadata": {
        "colab": {
          "base_uri": "https://localhost:8080/"
        },
        "id": "uvgA7tFUDBqq",
        "outputId": "124dbd2c-49f9-47bd-c7c8-144d5da2951c"
      },
      "source": [
        "#model on test using all the independent values in df\r\n",
        "ettc_prediction =ettc.predict(x_test)\r\n",
        "ettc_score= accuracy_score(y_test,ettc_prediction)\r\n",
        "print('testing accuracy using Extratressclassifier',ettc_score)"
      ],
      "execution_count": 888,
      "outputs": [
        {
          "output_type": "stream",
          "text": [
            "testing accuracy using Extratressclassifier 0.7915031564579423\n"
          ],
          "name": "stdout"
        }
      ]
    },
    {
      "cell_type": "code",
      "metadata": {
        "colab": {
          "base_uri": "https://localhost:8080/"
        },
        "id": "JlD68wJKDJfB",
        "outputId": "4b37f549-4af6-47ab-d1f4-cdca6c43cafc"
      },
      "source": [
        "    print(confusion_matrix(y_test, ettc_prediction))\r\n",
        "    fpr, tpr, thresholds = metrics.roc_curve(y_test,ettc_prediction)\r\n",
        "    print(\"AUC on test using Extratreesclassifier :\",metrics.auc(fpr, tpr))\r\n",
        "    average_precision = average_precision_score(y_test, ettc_prediction)\r\n",
        "    print('Average precision-recall score: {0:0.2f}'.format(average_precision))\r\n",
        "    print('recall_score on test set :',recall_score(y_test, ettc_prediction))\r\n",
        "    print('F1_score on test set :',f1_score(y_test, ettc_prediction))"
      ],
      "execution_count": 889,
      "outputs": [
        {
          "output_type": "stream",
          "text": [
            "[[4086  386]\n",
            " [ 836  553]]\n",
            "AUC on test using Extratreesclassifier : 0.6559066509026326\n",
            "Average precision-recall score: 0.38\n",
            "recall_score on test set : 0.39812814974802013\n",
            "F1_score on test set : 0.47508591065292094\n"
          ],
          "name": "stdout"
        }
      ]
    },
    {
      "cell_type": "markdown",
      "metadata": {
        "id": "uQ-MfxQwDQBR"
      },
      "source": [
        "##AdaBoostClassifier\r\n",
        "\r\n",
        "An AdaBoost classifier is a meta-estimator that begins by fitting a classifier on the original dataset and then fits additional copies of the classifier on the same dataset but where the weights of incorrectly classified instances are adjusted such that subsequent classifiers focus more on difficult cases."
      ]
    },
    {
      "cell_type": "code",
      "metadata": {
        "id": "totfik_8DJh5"
      },
      "source": [
        "ada =AdaBoostClassifier(n_estimators=100)"
      ],
      "execution_count": 890,
      "outputs": []
    },
    {
      "cell_type": "code",
      "metadata": {
        "colab": {
          "base_uri": "https://localhost:8080/"
        },
        "id": "wJibhEdWDJk8",
        "outputId": "a7f16e6b-0c50-4387-8f8f-9568d1b42eb1"
      },
      "source": [
        "ada.fit(x_train,y_train)"
      ],
      "execution_count": 891,
      "outputs": [
        {
          "output_type": "execute_result",
          "data": {
            "text/plain": [
              "AdaBoostClassifier(algorithm='SAMME.R', base_estimator=None, learning_rate=1.0,\n",
              "                   n_estimators=100, random_state=None)"
            ]
          },
          "metadata": {
            "tags": []
          },
          "execution_count": 891
        }
      ]
    },
    {
      "cell_type": "code",
      "metadata": {
        "colab": {
          "base_uri": "https://localhost:8080/"
        },
        "id": "y4nFpk9ZDJoS",
        "outputId": "8d82f2a0-b80c-412e-a80e-0bfb1f24c584"
      },
      "source": [
        "#model on train using all the independent values in df\r\n",
        "ada_prediction = ada.predict(x_train)\r\n",
        "ada_score= accuracy_score(y_train,ada_prediction)\r\n",
        "ada_score"
      ],
      "execution_count": 892,
      "outputs": [
        {
          "output_type": "execute_result",
          "data": {
            "text/plain": [
              "0.81981718464351"
            ]
          },
          "metadata": {
            "tags": []
          },
          "execution_count": 892
        }
      ]
    },
    {
      "cell_type": "code",
      "metadata": {
        "colab": {
          "base_uri": "https://localhost:8080/"
        },
        "id": "I3UNbZ-sDctg",
        "outputId": "dfdd959a-b59d-42df-b98c-45ba34377eaf"
      },
      "source": [
        "    print(confusion_matrix(y_train, ada_prediction))\r\n",
        "    fpr, tpr, thresholds = metrics.roc_curve(y_train,ada_prediction)\r\n",
        "    print(\"AUC on train using AdaBoost :\",metrics.auc(fpr, tpr))\r\n",
        "    average_precision = average_precision_score(y_train, ada_prediction)\r\n",
        "    print('Average precision-recall score: {0:0.2f}'.format(average_precision))\r\n",
        "    print('recall_score on train set :',recall_score(y_train, ada_prediction))\r\n",
        "    print('F1_sccore on train set :',f1_score(y_train, ada_prediction))"
      ],
      "execution_count": 893,
      "outputs": [
        {
          "output_type": "stream",
          "text": [
            "[[9623  791]\n",
            " [1673 1588]]\n",
            "AUC on train using AdaBoost : 0.7055058716926658\n",
            "Average precision-recall score: 0.45\n",
            "recall_score on train set : 0.4869671879791475\n",
            "F1_sccore on train set : 0.5631205673758866\n"
          ],
          "name": "stdout"
        }
      ]
    },
    {
      "cell_type": "code",
      "metadata": {
        "colab": {
          "base_uri": "https://localhost:8080/"
        },
        "id": "xlLOgQKaDcwa",
        "outputId": "1ebcf3d6-3770-4c1e-cc4d-0a3242455322"
      },
      "source": [
        "#model on test using all the independent values in df\r\n",
        "ada_prediction = ada.predict(x_test)\r\n",
        "ada_score= accuracy_score(y_test,ada_prediction)\r\n",
        "print('accuracy score om test using AdaBoost :',ada_score)"
      ],
      "execution_count": 894,
      "outputs": [
        {
          "output_type": "stream",
          "text": [
            "accuracy score om test using AdaBoost : 0.8196553489165671\n"
          ],
          "name": "stdout"
        }
      ]
    },
    {
      "cell_type": "code",
      "metadata": {
        "colab": {
          "base_uri": "https://localhost:8080/"
        },
        "id": "-zo3ELscDczg",
        "outputId": "1d171fb6-d514-4da9-84f7-668167f8b754"
      },
      "source": [
        "    print(confusion_matrix(y_test, ada_prediction))\r\n",
        "    fpr, tpr, thresholds = metrics.roc_curve(y_test,ada_prediction)\r\n",
        "    print(\"AUC on test using AdaBoost :\",metrics.auc(fpr, tpr))\r\n",
        "    average_precision = average_precision_score(y_test, ada_prediction)\r\n",
        "    print('Average precision-recall score: {0:0.2f}'.format(average_precision))\r\n",
        "    print('recall_score on test set :',recall_score(y_test, ada_prediction))\r\n",
        "    print('F1_sccore on test set :',f1_score(y_test, ada_prediction))"
      ],
      "execution_count": 895,
      "outputs": [
        {
          "output_type": "stream",
          "text": [
            "[[4134  338]\n",
            " [ 719  670]]\n",
            "AUC on test using AdaBoost : 0.703390007869138\n",
            "Average precision-recall score: 0.44\n",
            "recall_score on test set : 0.48236141108711306\n",
            "F1_sccore on test set : 0.5590321234876929\n"
          ],
          "name": "stdout"
        }
      ]
    },
    {
      "cell_type": "code",
      "metadata": {
        "colab": {
          "base_uri": "https://localhost:8080/"
        },
        "id": "8tiEXaxRDc2v",
        "outputId": "8106255a-c582-4cbd-b852-92000fca061f"
      },
      "source": [
        "lr = AdaBoostClassifier(n_estimators=100)\r\n",
        "scores = cross_val_score(lr, x_train, y_train, cv=10, scoring = \"accuracy\")\r\n",
        "print(\"Scores:\", scores)\r\n",
        "print(\"Mean:\", scores.mean())\r\n",
        "print(\"Standard Deviation:\", scores.std())"
      ],
      "execution_count": 896,
      "outputs": [
        {
          "output_type": "stream",
          "text": [
            "Scores: [0.83333333 0.8128655  0.81871345 0.82821637 0.81432749 0.81858083\n",
            " 0.80102414 0.8024872  0.81492319 0.81419166]\n",
            "Mean: 0.8158663163028272\n",
            "Standard Deviation: 0.009420473737247314\n"
          ],
          "name": "stdout"
        }
      ]
    },
    {
      "cell_type": "markdown",
      "metadata": {
        "id": "wyQNJ_suDjyf"
      },
      "source": [
        "##Bagging Classifier\r\n",
        "\r\n",
        "A Bagging classifier is an ensemble meta-estimator that fits base classifiers each on random subsets of the original dataset and then aggregate their individual predictions (either by voting or by averaging) to form a final prediction. Such a meta-estimator can typically be used as a way to reduce the variance of a black-box estimator (e.g., a decision tree), by introducing randomization into its construction procedure and then making an ensemble out of it."
      ]
    },
    {
      "cell_type": "code",
      "metadata": {
        "colab": {
          "base_uri": "https://localhost:8080/"
        },
        "id": "uq8Mc_RXDc53",
        "outputId": "b1d98bb5-14b3-44e8-b64f-f557a58899a1"
      },
      "source": [
        "bca =BaggingClassifier()\r\n",
        "bca.fit(x_train,y_train)\r\n",
        "#model on train using all the independent values in df\r\n",
        "bca_prediction = bca.predict(x_train)\r\n",
        "bca_score= accuracy_score(y_train,bca_prediction)\r\n",
        "print('accuracy on train using BaggingClassifier :',bca_score)"
      ],
      "execution_count": 897,
      "outputs": [
        {
          "output_type": "stream",
          "text": [
            "accuracy on train using BaggingClassifier : 0.8636928702010969\n"
          ],
          "name": "stdout"
        }
      ]
    },
    {
      "cell_type": "code",
      "metadata": {
        "colab": {
          "base_uri": "https://localhost:8080/"
        },
        "id": "gugyobW6DquS",
        "outputId": "6fed7b68-56dd-4001-9a29-aa53465669af"
      },
      "source": [
        "    print(confusion_matrix(y_train, bca_prediction))\r\n",
        "    fpr, tpr, thresholds = metrics.roc_curve(y_train,bca_prediction)\r\n",
        "    print(\"AUC on train using BaggingClassifier :\",metrics.auc(fpr, tpr))\r\n",
        "    average_precision = average_precision_score(y_train, bca_prediction)\r\n",
        "    print('Average precision-recall score: {0:0.2f}'.format(average_precision))\r\n",
        "    print('recall_score on train set :',recall_score(y_train, bca_prediction))\r\n",
        "    print('F1_score on train set :',f1_score(y_train, bca_prediction))"
      ],
      "execution_count": 898,
      "outputs": [
        {
          "output_type": "stream",
          "text": [
            "[[9703  711]\n",
            " [1153 2108]]\n",
            "AUC on train using BaggingClassifier : 0.7890769991119567\n",
            "Average precision-recall score: 0.57\n",
            "recall_score on train set : 0.646427476234284\n",
            "F1_score on train set : 0.6934210526315789\n"
          ],
          "name": "stdout"
        }
      ]
    },
    {
      "cell_type": "code",
      "metadata": {
        "colab": {
          "base_uri": "https://localhost:8080/"
        },
        "id": "GzT4xwnbDqxI",
        "outputId": "4ae5b70e-8a23-48e2-8bd7-839352dc9a4f"
      },
      "source": [
        "#model on test using all the independent values in df\r\n",
        "bca_prediction = bca.predict(x_test)\r\n",
        "bca_score= accuracy_score(y_test,bca_prediction)\r\n",
        "print(bca_score)"
      ],
      "execution_count": 899,
      "outputs": [
        {
          "output_type": "stream",
          "text": [
            "0.7933799692885173\n"
          ],
          "name": "stdout"
        }
      ]
    },
    {
      "cell_type": "code",
      "metadata": {
        "colab": {
          "base_uri": "https://localhost:8080/"
        },
        "id": "QQcNRARyDqz9",
        "outputId": "8c0396bf-b9ae-4f4b-d66b-dab5539768d7"
      },
      "source": [
        "    print(confusion_matrix(y_test, bca_prediction))\r\n",
        "    fpr, tpr, thresholds = metrics.roc_curve(y_test,bca_prediction)\r\n",
        "    print(\"AUC on train using Bagging Classifier :\",metrics.auc(fpr, tpr))\r\n",
        "    average_precision = average_precision_score(y_test, bca_prediction)\r\n",
        "    print('Average precision-recall score: {0:0.2f}'.format(average_precision))\r\n",
        "    print('recall_score on test set :',recall_score(y_test, bca_prediction))\r\n",
        "    print('F1_score on test set :',f1_score(y_test, bca_prediction))"
      ],
      "execution_count": 900,
      "outputs": [
        {
          "output_type": "stream",
          "text": [
            "[[3986  486]\n",
            " [ 725  664]]\n",
            "AUC on train using Bagging Classifier : 0.6846827745730253\n",
            "Average precision-recall score: 0.40\n",
            "recall_score on test set : 0.47804175665946724\n",
            "F1_score on test set : 0.5230405671524222\n"
          ],
          "name": "stdout"
        }
      ]
    },
    {
      "cell_type": "code",
      "metadata": {
        "colab": {
          "base_uri": "https://localhost:8080/"
        },
        "id": "NjPG_YORDq3j",
        "outputId": "048e94c0-c0a3-4e8d-9a63-0bd153661d29"
      },
      "source": [
        "lr = BaggingClassifier(n_estimators=100)\r\n",
        "scores = cross_val_score(lr, x_train, y_train, cv=10, scoring = \"accuracy\")\r\n",
        "print(\"Scores:\", scores)\r\n",
        "print(\"Mean:\", scores.mean())\r\n",
        "print(\"Standard Deviation:\", scores.std())"
      ],
      "execution_count": 901,
      "outputs": [
        {
          "output_type": "stream",
          "text": [
            "Scores: [0.81871345 0.79897661 0.80628655 0.80628655 0.79239766 0.79663497\n",
            " 0.78858815 0.79297732 0.80175567 0.80468178]\n",
            "Mean: 0.8007298711910231\n",
            "Standard Deviation: 0.008358371108504075\n"
          ],
          "name": "stdout"
        }
      ]
    },
    {
      "cell_type": "code",
      "metadata": {
        "id": "CPSuqVq_Dzg3"
      },
      "source": [
        ""
      ],
      "execution_count": 901,
      "outputs": []
    },
    {
      "cell_type": "markdown",
      "metadata": {
        "id": "9c7u_JrMaF1m"
      },
      "source": [
        "##Feature Selection\r\n"
      ]
    },
    {
      "cell_type": "code",
      "metadata": {
        "colab": {
          "base_uri": "https://localhost:8080/",
          "height": 611
        },
        "id": "fkqOv-nbaJIy",
        "outputId": "a8c62005-7949-4e83-9eda-df62b31f04f5"
      },
      "source": [
        "import pandas as pd\r\n",
        "%matplotlib inline\r\n",
        "#do code to support model\r\n",
        "#\"data\" is the X dataframe and model is the SKlearn object\r\n",
        "\r\n",
        "feats = {} # a dict to hold feature_name: feature_importance\r\n",
        "for feature, importance in zip(x_train.columns, rfc2.feature_importances_):\r\n",
        "    feats[feature] = importance #add the name/value pair \r\n",
        "\r\n",
        "importances = pd.DataFrame.from_dict(feats, orient='index').rename(columns={0: 'Gini-importance'})\r\n",
        "#plt.figure(figsize=(15,7))\r\n",
        "importances.sort_values(by='Gini-importance').plot(kind='barh',figsize=(10,10))"
      ],
      "execution_count": 902,
      "outputs": [
        {
          "output_type": "execute_result",
          "data": {
            "text/plain": [
              "<matplotlib.axes._subplots.AxesSubplot at 0x7f716f5a7a90>"
            ]
          },
          "metadata": {
            "tags": []
          },
          "execution_count": 902
        },
        {
          "output_type": "display_data",
          "data": {
            "image/png": "[encoded data removed]",
            "text/plain": [
              "<Figure size 720x720 with 1 Axes>"
            ]
          },
          "metadata": {
            "tags": [],
            "needs_background": "light"
          }
        }
      ]
    },
    {
      "cell_type": "markdown",
      "metadata": {
        "id": "6r_lWaTID35k"
      },
      "source": [
        "##Model Selection\r\n",
        "\r\n",
        "From the above we get to know that XGBoost algorithm gives us the best accuracy score and produces less delta value\r\n",
        "XGBoost model is to Predict the targeted variable on the test variable"
      ]
    },
    {
      "cell_type": "code",
      "metadata": {
        "id": "I8Jvo9FODznG",
        "colab": {
          "base_uri": "https://localhost:8080/",
          "height": 222
        },
        "outputId": "cf16dc18-965d-4ef1-ba10-2e0289d051f7"
      },
      "source": [
        "#preprocessing of the test data\r\n",
        "df_test.head()\r\n",
        "#df_test.set_index('UserID', inplace=True)\r\n",
        "#df_test.sort_index(ascending=True, inplace=True)\r\n"
      ],
      "execution_count": 903,
      "outputs": [
        {
          "output_type": "execute_result",
          "data": {
            "text/html": [
              "<div>\n",
              "<style scoped>\n",
              "    .dataframe tbody tr th:only-of-type {\n",
              "        vertical-align: middle;\n",
              "    }\n",
              "\n",
              "    .dataframe tbody tr th {\n",
              "        vertical-align: top;\n",
              "    }\n",
              "\n",
              "    .dataframe thead th {\n",
              "        text-align: right;\n",
              "    }\n",
              "</style>\n",
              "<table border=\"1\" class=\"dataframe\">\n",
              "  <thead>\n",
              "    <tr style=\"text-align: right;\">\n",
              "      <th></th>\n",
              "      <th>UserID</th>\n",
              "      <th>relationship_status</th>\n",
              "      <th>industry</th>\n",
              "      <th>genre</th>\n",
              "      <th>targeted_sex</th>\n",
              "      <th>average_runtime(minutes_per_week)</th>\n",
              "      <th>airtime</th>\n",
              "      <th>airlocation</th>\n",
              "      <th>ratings</th>\n",
              "      <th>expensive</th>\n",
              "      <th>money_back_guarantee</th>\n",
              "    </tr>\n",
              "  </thead>\n",
              "  <tbody>\n",
              "    <tr>\n",
              "      <th>0</th>\n",
              "      <td>UI_8772</td>\n",
              "      <td>Never-married</td>\n",
              "      <td>Entertainment</td>\n",
              "      <td>Infomercial</td>\n",
              "      <td>Female</td>\n",
              "      <td>40</td>\n",
              "      <td>Primetime</td>\n",
              "      <td>United-States</td>\n",
              "      <td>0.027465</td>\n",
              "      <td>High</td>\n",
              "      <td>Yes</td>\n",
              "    </tr>\n",
              "    <tr>\n",
              "      <th>1</th>\n",
              "      <td>UI_13139</td>\n",
              "      <td>Divorced</td>\n",
              "      <td>Auto</td>\n",
              "      <td>Comedy</td>\n",
              "      <td>Female</td>\n",
              "      <td>40</td>\n",
              "      <td>Primetime</td>\n",
              "      <td>United-States</td>\n",
              "      <td>0.027465</td>\n",
              "      <td>Low</td>\n",
              "      <td>No</td>\n",
              "    </tr>\n",
              "    <tr>\n",
              "      <th>2</th>\n",
              "      <td>UI_15381</td>\n",
              "      <td>Married-civ-spouse</td>\n",
              "      <td>Pharma</td>\n",
              "      <td>Infomercial</td>\n",
              "      <td>Male</td>\n",
              "      <td>40</td>\n",
              "      <td>Primetime</td>\n",
              "      <td>United-States</td>\n",
              "      <td>0.027465</td>\n",
              "      <td>High</td>\n",
              "      <td>No</td>\n",
              "    </tr>\n",
              "    <tr>\n",
              "      <th>3</th>\n",
              "      <td>UI_15503</td>\n",
              "      <td>Never-married</td>\n",
              "      <td>Auto</td>\n",
              "      <td>Comedy</td>\n",
              "      <td>Male</td>\n",
              "      <td>30</td>\n",
              "      <td>Primetime</td>\n",
              "      <td>United-States</td>\n",
              "      <td>0.027465</td>\n",
              "      <td>High</td>\n",
              "      <td>Yes</td>\n",
              "    </tr>\n",
              "    <tr>\n",
              "      <th>4</th>\n",
              "      <td>UI_16556</td>\n",
              "      <td>Never-married</td>\n",
              "      <td>Political</td>\n",
              "      <td>Comedy</td>\n",
              "      <td>Male</td>\n",
              "      <td>70</td>\n",
              "      <td>Morning</td>\n",
              "      <td>United-States</td>\n",
              "      <td>0.027465</td>\n",
              "      <td>Low</td>\n",
              "      <td>No</td>\n",
              "    </tr>\n",
              "  </tbody>\n",
              "</table>\n",
              "</div>"
            ],
            "text/plain": [
              "     UserID relationship_status  ... expensive money_back_guarantee\n",
              "0   UI_8772       Never-married  ...      High                  Yes\n",
              "1  UI_13139            Divorced  ...       Low                   No\n",
              "2  UI_15381  Married-civ-spouse  ...      High                   No\n",
              "3  UI_15503       Never-married  ...      High                  Yes\n",
              "4  UI_16556       Never-married  ...       Low                   No\n",
              "\n",
              "[5 rows x 11 columns]"
            ]
          },
          "metadata": {
            "tags": []
          },
          "execution_count": 903
        }
      ]
    },
    {
      "cell_type": "code",
      "metadata": {
        "id": "FjI_6o_aQpM5"
      },
      "source": [
        "\r\n",
        "\r\n",
        "\r\n",
        "df_test=pd.get_dummies(df_test,columns=['relationship_status','airlocation','industry','genre','targeted_sex','airtime','expensive','money_back_guarantee'])\r\n",
        "df_test = df_test.drop(['UserID'], axis=1)"
      ],
      "execution_count": 904,
      "outputs": []
    },
    {
      "cell_type": "code",
      "metadata": {
        "colab": {
          "base_uri": "https://localhost:8080/"
        },
        "id": "fNMkalGQRUet",
        "outputId": "a1be2025-e218-4a2b-9026-1a431eeb8279"
      },
      "source": [
        "df_test.head()\r\n",
        "df_test.shape"
      ],
      "execution_count": 905,
      "outputs": [
        {
          "output_type": "execute_result",
          "data": {
            "text/plain": [
              "(6512, 71)"
            ]
          },
          "metadata": {
            "tags": []
          },
          "execution_count": 905
        }
      ]
    },
    {
      "cell_type": "code",
      "metadata": {
        "colab": {
          "base_uri": "https://localhost:8080/"
        },
        "id": "NP9Fcr5SUgvV",
        "outputId": "cfe6a062-ded8-4748-b0c2-0a717277c231"
      },
      "source": [
        "df_test.columns"
      ],
      "execution_count": 906,
      "outputs": [
        {
          "output_type": "execute_result",
          "data": {
            "text/plain": [
              "Index(['average_runtime(minutes_per_week)', 'ratings',\n",
              "       'relationship_status_Divorced', 'relationship_status_Married-AF-spouse',\n",
              "       'relationship_status_Married-civ-spouse',\n",
              "       'relationship_status_Married-spouse-absent',\n",
              "       'relationship_status_Never-married', 'relationship_status_Separated',\n",
              "       'relationship_status_Widowed', 'airlocation_Cambodia',\n",
              "       'airlocation_Canada', 'airlocation_China', 'airlocation_Columbia',\n",
              "       'airlocation_Cuba', 'airlocation_Dominican-Republic',\n",
              "       'airlocation_Ecuador', 'airlocation_El-Salvador', 'airlocation_England',\n",
              "       'airlocation_France', 'airlocation_Germany', 'airlocation_Greece',\n",
              "       'airlocation_Guatemala', 'airlocation_Haiti',\n",
              "       'airlocation_Holand-Netherlands', 'airlocation_Honduras',\n",
              "       'airlocation_Hong', 'airlocation_Hungary', 'airlocation_India',\n",
              "       'airlocation_International', 'airlocation_Iran', 'airlocation_Ireland',\n",
              "       'airlocation_Italy', 'airlocation_Jamaica', 'airlocation_Japan',\n",
              "       'airlocation_Laos', 'airlocation_Mexico', 'airlocation_Nicaragua',\n",
              "       'airlocation_Outlying-US(Guam-USVI-etc)', 'airlocation_Peru',\n",
              "       'airlocation_Philippines', 'airlocation_Poland', 'airlocation_Portugal',\n",
              "       'airlocation_Puerto-Rico', 'airlocation_Scotland', 'airlocation_South',\n",
              "       'airlocation_Taiwan', 'airlocation_Thailand',\n",
              "       'airlocation_United-States', 'airlocation_Vietnam',\n",
              "       'airlocation_Yugoslavia', 'industry_Auto', 'industry_ClassAction',\n",
              "       'industry_Entertainment', 'industry_Other', 'industry_Pharma',\n",
              "       'industry_Political', 'genre_Comedy', 'genre_Direct', 'genre_Drama',\n",
              "       'genre_Infomercial', 'genre_Other', 'targeted_sex_Female',\n",
              "       'targeted_sex_Male', 'airtime_Daytime', 'airtime_Morning',\n",
              "       'airtime_Primetime', 'expensive_High', 'expensive_Low',\n",
              "       'expensive_Medium', 'money_back_guarantee_No',\n",
              "       'money_back_guarantee_Yes'],\n",
              "      dtype='object')"
            ]
          },
          "metadata": {
            "tags": []
          },
          "execution_count": 906
        }
      ]
    },
    {
      "cell_type": "code",
      "metadata": {
        "id": "D3Y_2tDWPZIf"
      },
      "source": [
        "prediction = xgboost.predict(df_test)"
      ],
      "execution_count": 907,
      "outputs": []
    },
    {
      "cell_type": "code",
      "metadata": {
        "id": "BhcludUzXXme"
      },
      "source": [
        "submission_file = pd.DataFrame(prediction,columns = ['netgain'])"
      ],
      "execution_count": 908,
      "outputs": []
    },
    {
      "cell_type": "code",
      "metadata": {
        "colab": {
          "base_uri": "https://localhost:8080/",
          "height": 216
        },
        "id": "cQQ_DS-UXbqd",
        "outputId": "6cfea380-ce0a-437a-e803-37009f476f39"
      },
      "source": [
        "submission_file.set_index('netgain', inplace=True)\r\n",
        "submission_file.head()"
      ],
      "execution_count": 909,
      "outputs": [
        {
          "output_type": "execute_result",
          "data": {
            "text/html": [
              "<div>\n",
              "<style scoped>\n",
              "    .dataframe tbody tr th:only-of-type {\n",
              "        vertical-align: middle;\n",
              "    }\n",
              "\n",
              "    .dataframe tbody tr th {\n",
              "        vertical-align: top;\n",
              "    }\n",
              "\n",
              "    .dataframe thead th {\n",
              "        text-align: right;\n",
              "    }\n",
              "</style>\n",
              "<table border=\"1\" class=\"dataframe\">\n",
              "  <thead>\n",
              "    <tr style=\"text-align: right;\">\n",
              "      <th></th>\n",
              "    </tr>\n",
              "    <tr>\n",
              "      <th>netgain</th>\n",
              "    </tr>\n",
              "  </thead>\n",
              "  <tbody>\n",
              "    <tr>\n",
              "      <th>0</th>\n",
              "    </tr>\n",
              "    <tr>\n",
              "      <th>0</th>\n",
              "    </tr>\n",
              "    <tr>\n",
              "      <th>0</th>\n",
              "    </tr>\n",
              "    <tr>\n",
              "      <th>0</th>\n",
              "    </tr>\n",
              "    <tr>\n",
              "      <th>0</th>\n",
              "    </tr>\n",
              "  </tbody>\n",
              "</table>\n",
              "</div>"
            ],
            "text/plain": [
              "Empty DataFrame\n",
              "Columns: []\n",
              "Index: [0, 0, 0, 0, 0]"
            ]
          },
          "metadata": {
            "tags": []
          },
          "execution_count": 909
        }
      ]
    },
    {
      "cell_type": "code",
      "metadata": {
        "id": "7eKn25ZNXax1"
      },
      "source": [
        "submission_file.to_csv('submission_file.csv', index=True)"
      ],
      "execution_count": 910,
      "outputs": []
    }
  ]
}